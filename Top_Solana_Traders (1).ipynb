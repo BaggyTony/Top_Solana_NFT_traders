{
 "cells": [
  {
   "cell_type": "markdown",
   "metadata": {},
   "source": [
    "---\n",
    "# TOP SOLANA TRADERS : BEHAVIOUR ANALYSIS\n",
    "---"
   ]
  },
  {
   "cell_type": "markdown",
   "metadata": {},
   "source": [
    "**Introduction**\n",
    "\n",
    "In the growing world of digital assets, accurate analysis is key. NFTs on the Solana blockchain are becoming significant players in this space. To dive deeper into these assets, I hereby offer a detailed analysis, building on the work already shown in my dashboard at https://flipsidecrypto.xyz/digital_boy99/top-solana-nft-traders-top-solana-nft-traders-5AgAbK . As such, for more clarity on the SQL queries performed below as well a context (eg : criteria selection for best traders), refer to my dashboard on Flipside.\n",
    "\n",
    "\n",
    "The analysis is delineated as follows:\n",
    "\n",
    "**PART 1: Data Collection from Flipside Crypto and Magic Eden API**\n",
    "\n",
    "In this section, I gather data from the Flipside Crypto dashboard. This data gives an overall view of NFT trades. However, Flipside doesn't specify which collection each NFT belongs to. To get this information, I've used the Magic Eden API. This means for every NFT trade we see on Flipside, we now also know its associated collection from Magic Eden. This combined data will be the base for our further analysis in the upcoming sections.\n",
    "\n",
    "\n",
    "**PART 2: Pinpointing Key Collections**\n",
    "\n",
    "This analysis starts by first examining the holding durations of NFTs. To accomplish this, I delve into the trades made by the top Solana NFT traders over the last 30 days (top traders as defined on the Flipside dashboard). This exploration uncovers that the majority of these NFTs are held for a duration of less than 7 days. Given this insight, I decide focus on NFTs that were both acquired and sold by our traders of interest within this 7-day window. This allows us to identify the collections engaged in by these traders, pinpointing those that appear most lucrative.\n",
    "\n",
    "**PART 3: Data Collection and storage : Target Collections**\n",
    "\n",
    "After identifying the main collections in Part 1, this section gathers detailed data on these collections preferred by top traders. The goal is straightforward: collect as much data as we can without diving deep into analysis yet.\n",
    "\n",
    "We start by using the Magic Eden API to get relevant stats. Next, we check listings and track the actions of the top holders in these collections.\n",
    "\n",
    "**PART 4: Current Trades**\n",
    "\n",
    "Using our background data, we now look at real-time market actions. We're focused on the buying and selling patterns of our top traders. This gives us a clearer picture of ongoing investment trends, when to buy or sell, and any portfolio change suggestions.\n",
    "\n",
    "**PART 5:Analyzing today's collection of interest**\n",
    "\n",
    "Here, we bring together our data to highlight the most traded collections in the past day. We also look at shorter term movements (6h, 1h). The information from the earlier sections, especially Part 2, helps stakeholders make educated buy or sell decisions about these collections. Above that, Twitter data is collected for the collection of interet and sentiment analysis is performed.\n",
    "\n",
    "\n",
    "Disclaimer: This analysis offers a snapshot of the current market but isn't financial advice. Investors should do their own research and consider seeking professional advice before making financial choices.\n",
    "\n",
    "\n",
    "NB : to run this script succesfully, one will need a MongoDB URI to store data, Flipside keys to gather data and an apify API token to scrape data from Twitter."
   ]
  },
  {
   "cell_type": "markdown",
   "metadata": {},
   "source": [
    "---\n",
    "# PART 0 : Imports\n",
    "---"
   ]
  },
  {
   "cell_type": "code",
   "execution_count": 91,
   "metadata": {},
   "outputs": [],
   "source": [
    "# Importing necessary libraries\n",
    "\n",
    "import requests\n",
    "import seaborn as sns\n",
    "import pandas as pd\n",
    "import numpy as np\n",
    "import pymongo\n",
    "import datetime\n",
    "import json\n",
    "import matplotlib.pyplot as plt\n",
    "import time\n",
    "import urllib.request\n",
    "\n",
    "\n",
    "from transformers import AutoTokenizer, AutoModelForSequenceClassification\n",
    "from scipy.special import softmax\n",
    "\n",
    "# Flipside imports and keys\n",
    "\n",
    "from flipside import Flipside\n",
    "\n",
    "# FLIPSIDE_KEYS = your flipside keys\n",
    "\n",
    "flipside = Flipside(FLIPSIDE_KEYS, \"https://api-v2.flipsidecrypto.xyz\")\n",
    "\n",
    "\n",
    "# MongoDB URL and keys\n",
    "\n",
    "# MONGO_USER_PASSWORD = your mongodb username and password\n",
    "MONGO_URI = f\"mongodb+srv://{MONGO_USER_PASSWORD}@cluster0.7id2vqq.mongodb.net/?retryWrites=true&w=majority\"\n",
    "client = pymongo.MongoClient(MONGO_URI)\n",
    "db = client.mydatabase\n",
    "\n",
    "# Twitter scraper URL and keys\n",
    "\n",
    "# API_TOKEN = your APify api token \n",
    "\n",
    "BASE_URL = 'https://api.apify.com/v2'\n",
    "headers = {\n",
    "    \"Content-Type\": \"application/json\",\n",
    "    \"Authorization\": f\"Bearer {API_TOKEN}\"\n",
    "}\n",
    "\n",
    "\n",
    "\n"
   ]
  },
  {
   "cell_type": "markdown",
   "metadata": {},
   "source": [
    "---\n",
    "\n",
    "# PART 1: Data Collection from Flipside Crypto and Magic Eden API\n",
    "       \n",
    "--- "
   ]
  },
  {
   "cell_type": "markdown",
   "metadata": {},
   "source": [
    "In this section, we gather trading data for top NFT traders on Solana across various time frames using queries from Flipside Crypto. To get insight into how these top traders were determined, please refer directly to the Flipside Crypto dashboard."
   ]
  },
  {
   "cell_type": "markdown",
   "metadata": {},
   "source": [
    "## 1.1 Definining general querying functions"
   ]
  },
  {
   "cell_type": "code",
   "execution_count": 2,
   "metadata": {},
   "outputs": [],
   "source": [
    "# Defining general function to query Flipside data \n",
    "\n",
    "def run_query_and_get_df(query):\n",
    "    query_result_set = flipside.query(query)\n",
    "    columns = query_result_set.columns\n",
    "    rows = query_result_set.rows\n",
    "    df = pd.DataFrame(rows, columns=columns)\n",
    "    df = df.drop('__row_index', axis=1)\n",
    "    return df\n",
    "\n",
    "# Adding the collection to the data uing Magic Eden API\n",
    "\n",
    "def add_collections_to_df(df):\n",
    "    base_url = \"https://api-mainnet.magiceden.dev/v2/tokens/\"\n",
    "    collections = []\n",
    "    for nft in df['nft']:\n",
    "        url = f\"{base_url}/{nft}\"\n",
    "        headers = {\"accept\": \"application/json\"}\n",
    "        response = requests.get(url, headers=headers)\n",
    "        if response.status_code == 200:\n",
    "            info = json.loads(response.text)\n",
    "            collections.append(info.get('collection', None))\n",
    "        else:\n",
    "            collections.append(None)\n",
    "    df['collection'] = collections\n",
    "    return df"
   ]
  },
  {
   "cell_type": "markdown",
   "metadata": {},
   "source": [
    "## 1.2 Completed trades (NFT both bought and sold over certain time periods)"
   ]
  },
  {
   "cell_type": "code",
   "execution_count": 3,
   "metadata": {},
   "outputs": [],
   "source": [
    "# SQL Base Template\n",
    "\n",
    "trades_query = \"\"\"WITH Purchases AS ( SELECT MARKETPLACE, BLOCK_TIMESTAMP, PURCHASER, MINT, SALES_AMOUNT FROM solana.core.fact_nft_sales WHERE BLOCK_TIMESTAMP >= CURRENT_DATE - INTERVAL '30 days' AND SUCCEEDED = TRUE ), \n",
    "Sales AS ( SELECT MARKETPLACE, BLOCK_TIMESTAMP, PURCHASER, SELLER, MINT, SALES_AMOUNT FROM solana.core.fact_nft_sales WHERE BLOCK_TIMESTAMP >= CURRENT_DATE - INTERVAL '30 days' AND SUCCEEDED = TRUE ), \n",
    "TradeProfits AS ( SELECT p.PURCHASER, (s.SALES_AMOUNT - p.SALES_AMOUNT) AS Profit FROM Sales s JOIN Purchases p ON p.MINT = s.MINT AND p.PURCHASER = s.SELLER AND p.BLOCK_TIMESTAMP = ( SELECT MAX(p2.BLOCK_TIMESTAMP) FROM Purchases p2 WHERE p2.MINT = s.MINT AND p2.PURCHASER = s.SELLER AND p2.BLOCK_TIMESTAMP < s.BLOCK_TIMESTAMP) ), \n",
    "ProfitableTrades AS ( SELECT PURCHASER, COUNT(*) as ProfitableTradeCount FROM TradeProfits WHERE Profit > 0.1 GROUP BY PURCHASER ), \n",
    "TotalTrades AS ( SELECT PURCHASER, COUNT(*) as TotalTradeCount FROM TradeProfits GROUP BY PURCHASER ), \n",
    "FilteredTrades AS ( SELECT p.PURCHASER, s.SALES_AMOUNT - p.SALES_AMOUNT AS TradeProfit, p.SALES_AMOUNT AS Investment, (s.SALES_AMOUNT - p.SALES_AMOUNT) / p.SALES_AMOUNT AS ROI FROM Sales s JOIN Purchases p ON p.MINT = s.MINT AND p.PURCHASER = s.SELLER AND p.BLOCK_TIMESTAMP = ( SELECT MAX(p2.BLOCK_TIMESTAMP) FROM Purchases p2 WHERE p2.MINT = s.MINT AND p2.PURCHASER = s.SELLER AND p2.BLOCK_TIMESTAMP < s.BLOCK_TIMESTAMP) WHERE (s.SALES_AMOUNT - p.SALES_AMOUNT) / p.SALES_AMOUNT <= 10 AND (s.SALES_AMOUNT - p.SALES_AMOUNT) / p.SALES_AMOUNT >= -10 ), \n",
    "TradeMetrics AS ( SELECT PURCHASER, SUM(TradeProfit) AS TotalProfit, SUM(Investment) AS Investment, SUM(TradeProfit) / SUM(Investment) AS ROI FROM FilteredTrades GROUP BY PURCHASER ), \n",
    "top50traders AS ( SELECT t.PURCHASER AS trader, IFNULL(p.ProfitableTradeCount, 0) AS ProfitableTradeCount, t.TotalTradeCount, (IFNULL(p.ProfitableTradeCount, 0) * 100.0 / t.TotalTradeCount) AS PercentageProfitableTrades, tm.TotalProfit, tm.Investment, tm.ROI FROM TotalTrades t LEFT JOIN ProfitableTrades p ON t.PURCHASER = p.PURCHASER JOIN TradeMetrics tm ON t.PURCHASER = tm.PURCHASER WHERE t.TotalTradeCount > 20 AND tm.TotalProfit > 1 AND PERCENTAGEPROFITABLETRADES > 80 AND ROI > 0.2 ORDER BY ROI DESC, PercentageProfitableTrades DESC LIMIT 50 ) SELECT p.PURCHASER AS VENDEUR, s.PURCHASER AS ACHETEUR, p.MINT AS NFT, l.LABEL, p.BLOCK_TIMESTAMP AS DATE_ACHAT, s.BLOCK_TIMESTAMP AS DATE_VENTE, DATEDIFF(MINUTE, p.BLOCK_TIMESTAMP, s.BLOCK_TIMESTAMP) AS HODL_TIME, p.SALES_AMOUNT AS PRIX_ACHAT, s.SALES_AMOUNT AS PRIX_VENTE, (s.SALES_AMOUNT - p.SALES_AMOUNT) AS PROFIT, (s.SALES_AMOUNT - p.SALES_AMOUNT) / p.SALES_AMOUNT AS ROI FROM Sales s JOIN Purchases p ON p.MINT = s.MINT AND p.PURCHASER = s.SELLER AND p.BLOCK_TIMESTAMP = ( SELECT MAX(p2.BLOCK_TIMESTAMP) FROM Purchases p2 WHERE p2.MINT = s.MINT AND p2.PURCHASER = s.SELLER AND p2.BLOCK_TIMESTAMP < s.BLOCK_TIMESTAMP) JOIN Top50Traders t50 ON p.PURCHASER = t50.trader LEFT JOIN solana.core.dim_labels l ON p.MINT = l.address WHERE ((s.SALES_AMOUNT - p.SALES_AMOUNT) / p.SALES_AMOUNT) <= 10 AND ((s.SALES_AMOUNT - p.SALES_AMOUNT) / p.SALES_AMOUNT) >= -10 AND s.BLOCK_TIMESTAMP >= CURRENT_DATE - INTERVAL '{interval}' ORDER BY PROFIT DESC;\"\"\"\n",
    "\n",
    "# Fetch Data for 30-day interval : used to understand holding time behavior\n",
    "\n",
    "trades_30d_query = trades_query.format(interval='30 days')\n",
    "trades_30d = run_query_and_get_df(trades_30d_query)\n",
    "\n",
    "# Fetch Data and Collections for 7-day interval : used to understand currently traded collections\n",
    "trades_7d_query = trades_query.format(interval='7 days')\n",
    "trades_7d = run_query_and_get_df(trades_7d_query)\n",
    "trades_7d = add_collections_to_df(trades_7d)"
   ]
  },
  {
   "cell_type": "markdown",
   "metadata": {},
   "source": [
    "## 1.3 Best traders (+ Related Twitter account)"
   ]
  },
  {
   "cell_type": "code",
   "execution_count": 47,
   "metadata": {},
   "outputs": [],
   "source": [
    "users_wallets = {\n",
    "    \"@puffpuffjim\": \"4qf49iU65pFYWTx3hCA7vikRRv5L3pg6im49yHXjLoQN\",\n",
    "    \"@MJDiSantis\": \"CMaSYTPnfp1fnVekRVG5aDmxv4bwXVDrtJwoEYrd6BGT\",\n",
    "    \"@JussCubs\": \"AiwvWy3JQwN6GnKaLRnLhHwbtGnmj2j413TmJtMqBqeG\",\n",
    "    \"@thefixir\": \"Ak9gDjsbNgimx3UAMHu3bHhq4G8boLocZyhjtL598zaM\",\n",
    "    \"@CryptocydMina\": \"CCWxahZcw47EsH8pavCeNKeGbpGNEs5JEKQ17fjP4ehA\",\n",
    "    \"@Kard_Lab\": \"BiKcVb6t6YDZczYjWLjXKwdgAUecdQrp1EJXAfRmu3VR\",\n",
    "    \"@0xGokul_\": \"B8CXgN3GDut2VhY76zvKQ4HnUFMamLoP9295ea2vvev\",\n",
    "    \"@DementedNFT\": \"HUCVagK86Rtq12uw9b3JqBAv2uRhokh7rhwsMbFjWRr7\",\n",
    "    \"@TheVsCrypto\": \"FyYuwARxPfNQQSUG86JRcYxDQh4YQ2Jk5Nm9gUPpZomn\",\n",
    "    \"@FeedBlog\": \"HUVrLjbN4xGniAuHhnM1s7fks6yq8nAPLBCwmHCKUrGT\",\n",
    "    \"@Plaposaur\": \"9hga8PcYoCJRv17rgjA7bkY6mTVwhCRoWyGg9Wm8BAoG\",\n",
    "    \"@boss1_sol\": \"2e2eL3bQRkarfSEcwzYhGw6dni873AxfoApGNM52YG3e\",\n",
    "    \"@knight_owl49\": \"FTyoPxq1QTgLTMBT1DMR2W1WX6Nur938843C4z13scp2\",\n",
    "    \"@Psyhigh_SOL\": \"3ZjikNwkxeqTZ1cJd73VWK2jkwgJAL3165aVdFgzUoyi\",\n",
    "    \"@itz_jokez\": \"JDxmKrFMTwCSQUcNmQVA9aWDZKkHstFQiVqvSGuD9jgN\",\n",
    "    \"@fraz62\": \"99p4JEnzvsVynsJoKz9h5fqmuSREB9GLAUgvGqbKjMrU\",\n",
    "    \"@BeavisNFTs\": \"uWqiW9vmgW7RzPTjcQ7F1nNu9d2fR1Y8T9uaTMWjv8x\"\n",
    "}\n",
    "\n",
    "\n"
   ]
  },
  {
   "cell_type": "code",
   "execution_count": 53,
   "metadata": {},
   "outputs": [
    {
     "data": {
      "text/html": [
       "<div>\n",
       "<style scoped>\n",
       "    .dataframe tbody tr th:only-of-type {\n",
       "        vertical-align: middle;\n",
       "    }\n",
       "\n",
       "    .dataframe tbody tr th {\n",
       "        vertical-align: top;\n",
       "    }\n",
       "\n",
       "    .dataframe thead th {\n",
       "        text-align: right;\n",
       "    }\n",
       "</style>\n",
       "<table border=\"1\" class=\"dataframe\">\n",
       "  <thead>\n",
       "    <tr style=\"text-align: right;\">\n",
       "      <th></th>\n",
       "      <th>twitter</th>\n",
       "      <th>trader</th>\n",
       "      <th>profitabletradecount</th>\n",
       "      <th>totaltradecount</th>\n",
       "      <th>percentageprofitabletrades</th>\n",
       "      <th>totalprofit</th>\n",
       "      <th>investment</th>\n",
       "      <th>roi</th>\n",
       "    </tr>\n",
       "  </thead>\n",
       "  <tbody>\n",
       "    <tr>\n",
       "      <th>0</th>\n",
       "      <td>na</td>\n",
       "      <td>DBwPX25FDXCpNnJLQyQPyTYasdti989nCn6J9ybQqPbz</td>\n",
       "      <td>21</td>\n",
       "      <td>21</td>\n",
       "      <td>100.000000</td>\n",
       "      <td>2.885409</td>\n",
       "      <td>0.867574</td>\n",
       "      <td>3.325837</td>\n",
       "    </tr>\n",
       "    <tr>\n",
       "      <th>1</th>\n",
       "      <td>na</td>\n",
       "      <td>9Cw3Z8GmqaonweVtVW7hXqnhMiSt6igh8jGPEfMSMzQH</td>\n",
       "      <td>30</td>\n",
       "      <td>31</td>\n",
       "      <td>96.774194</td>\n",
       "      <td>27.486328</td>\n",
       "      <td>9.585035</td>\n",
       "      <td>2.867630</td>\n",
       "    </tr>\n",
       "    <tr>\n",
       "      <th>2</th>\n",
       "      <td>na</td>\n",
       "      <td>H4Mkb8omvxkzfviMxW1dPjx9EUzPjKrDirtGTQdinSuA</td>\n",
       "      <td>20</td>\n",
       "      <td>20</td>\n",
       "      <td>100.000000</td>\n",
       "      <td>2.959843</td>\n",
       "      <td>1.193115</td>\n",
       "      <td>2.480769</td>\n",
       "    </tr>\n",
       "    <tr>\n",
       "      <th>3</th>\n",
       "      <td>na</td>\n",
       "      <td>5ekbAmFNDa4JuVB8fSKmEVmmiA4Mc97ip64UHSBtgsp7</td>\n",
       "      <td>67</td>\n",
       "      <td>67</td>\n",
       "      <td>100.000000</td>\n",
       "      <td>74.095653</td>\n",
       "      <td>32.681974</td>\n",
       "      <td>2.267172</td>\n",
       "    </tr>\n",
       "    <tr>\n",
       "      <th>4</th>\n",
       "      <td>na</td>\n",
       "      <td>5GWUdSev42nKXXs49tKwcoZyozSwDoYDJTLSegV5NzFC</td>\n",
       "      <td>28</td>\n",
       "      <td>28</td>\n",
       "      <td>100.000000</td>\n",
       "      <td>22.958235</td>\n",
       "      <td>23.417746</td>\n",
       "      <td>0.980378</td>\n",
       "    </tr>\n",
       "    <tr>\n",
       "      <th>5</th>\n",
       "      <td>na</td>\n",
       "      <td>4CB3oYq66Xfew2GH4k1vfZnXMEb73hxB3xZ2Bdu8ih4b</td>\n",
       "      <td>128</td>\n",
       "      <td>129</td>\n",
       "      <td>99.224806</td>\n",
       "      <td>125.383844</td>\n",
       "      <td>141.216551</td>\n",
       "      <td>0.887883</td>\n",
       "    </tr>\n",
       "    <tr>\n",
       "      <th>6</th>\n",
       "      <td>@Plaposaur</td>\n",
       "      <td>9hga8PcYoCJRv17rgjA7bkY6mTVwhCRoWyGg9Wm8BAoG</td>\n",
       "      <td>21</td>\n",
       "      <td>21</td>\n",
       "      <td>100.000000</td>\n",
       "      <td>25.535743</td>\n",
       "      <td>31.653964</td>\n",
       "      <td>0.806715</td>\n",
       "    </tr>\n",
       "    <tr>\n",
       "      <th>7</th>\n",
       "      <td>na</td>\n",
       "      <td>BDtWiYWv1PbLH8e8cXPPW9epWgBs1RchCrNQkHs62c5u</td>\n",
       "      <td>28</td>\n",
       "      <td>31</td>\n",
       "      <td>90.322581</td>\n",
       "      <td>18.189210</td>\n",
       "      <td>23.656345</td>\n",
       "      <td>0.768894</td>\n",
       "    </tr>\n",
       "  </tbody>\n",
       "</table>\n",
       "</div>"
      ],
      "text/plain": [
       "      twitter                                        trader  \\\n",
       "0          na  DBwPX25FDXCpNnJLQyQPyTYasdti989nCn6J9ybQqPbz   \n",
       "1          na  9Cw3Z8GmqaonweVtVW7hXqnhMiSt6igh8jGPEfMSMzQH   \n",
       "2          na  H4Mkb8omvxkzfviMxW1dPjx9EUzPjKrDirtGTQdinSuA   \n",
       "3          na  5ekbAmFNDa4JuVB8fSKmEVmmiA4Mc97ip64UHSBtgsp7   \n",
       "4          na  5GWUdSev42nKXXs49tKwcoZyozSwDoYDJTLSegV5NzFC   \n",
       "5          na  4CB3oYq66Xfew2GH4k1vfZnXMEb73hxB3xZ2Bdu8ih4b   \n",
       "6  @Plaposaur  9hga8PcYoCJRv17rgjA7bkY6mTVwhCRoWyGg9Wm8BAoG   \n",
       "7          na  BDtWiYWv1PbLH8e8cXPPW9epWgBs1RchCrNQkHs62c5u   \n",
       "\n",
       "   profitabletradecount  totaltradecount  percentageprofitabletrades  \\\n",
       "0                    21               21                  100.000000   \n",
       "1                    30               31                   96.774194   \n",
       "2                    20               20                  100.000000   \n",
       "3                    67               67                  100.000000   \n",
       "4                    28               28                  100.000000   \n",
       "5                   128              129                   99.224806   \n",
       "6                    21               21                  100.000000   \n",
       "7                    28               31                   90.322581   \n",
       "\n",
       "   totalprofit  investment       roi  \n",
       "0     2.885409    0.867574  3.325837  \n",
       "1    27.486328    9.585035  2.867630  \n",
       "2     2.959843    1.193115  2.480769  \n",
       "3    74.095653   32.681974  2.267172  \n",
       "4    22.958235   23.417746  0.980378  \n",
       "5   125.383844  141.216551  0.887883  \n",
       "6    25.535743   31.653964  0.806715  \n",
       "7    18.189210   23.656345  0.768894  "
      ]
     },
     "execution_count": 53,
     "metadata": {},
     "output_type": "execute_result"
    }
   ],
   "source": [
    "best_traders = \"\"\"WITH Purchases AS ( SELECT MARKETPLACE, BLOCK_TIMESTAMP, PURCHASER, MINT, SALES_AMOUNT FROM solana.core.fact_nft_sales WHERE BLOCK_TIMESTAMP >= CURRENT_DATE - INTERVAL '30 days' AND SUCCEEDED = TRUE ), Sales AS ( SELECT MARKETPLACE, BLOCK_TIMESTAMP, SELLER, MINT, SALES_AMOUNT FROM solana.core.fact_nft_sales WHERE BLOCK_TIMESTAMP >= CURRENT_DATE - INTERVAL '30 days' AND SUCCEEDED = TRUE ), TradeProfits AS ( SELECT p.PURCHASER, (s.SALES_AMOUNT - p.SALES_AMOUNT) AS Profit FROM Sales s JOIN Purchases p ON p.MINT = s.MINT AND p.PURCHASER = s.SELLER AND p.BLOCK_TIMESTAMP = ( SELECT MAX(p2.BLOCK_TIMESTAMP) FROM Purchases p2 WHERE p2.MINT = s.MINT AND p2.PURCHASER = s.SELLER AND p2.BLOCK_TIMESTAMP < s.BLOCK_TIMESTAMP ) ), ProfitableTrades AS ( SELECT PURCHASER, COUNT(*) as ProfitableTradeCount FROM TradeProfits WHERE Profit > 0.1 GROUP BY PURCHASER ), TotalTrades AS ( SELECT PURCHASER, COUNT(*) as TotalTradeCount FROM TradeProfits GROUP BY PURCHASER ), FilteredTrades AS ( SELECT p.PURCHASER, s.SALES_AMOUNT - p.SALES_AMOUNT AS TradeProfit, p.SALES_AMOUNT AS Investment, (s.SALES_AMOUNT - p.SALES_AMOUNT) / p.SALES_AMOUNT AS ROI FROM Purchases p JOIN Sales s ON p.MINT = s.MINT AND p.PURCHASER = s.SELLER WHERE (s.SALES_AMOUNT - p.SALES_AMOUNT) / p.SALES_AMOUNT <= 10 AND (s.SALES_AMOUNT - p.SALES_AMOUNT) / p.SALES_AMOUNT >= -10 ), TradeMetrics AS ( SELECT PURCHASER, SUM(TradeProfit) AS TotalProfit, SUM(Investment) AS Investment, SUM(TradeProfit) / SUM(Investment) AS ROI FROM FilteredTrades GROUP BY PURCHASER ) SELECT t.PURCHASER AS trader, IFNULL(p.ProfitableTradeCount, 0) AS ProfitableTradeCount, t.TotalTradeCount, (IFNULL(p.ProfitableTradeCount, 0) * 100.0 / t.TotalTradeCount) AS PercentageProfitableTrades, tm.TotalProfit, tm.Investment, tm.ROI FROM TotalTrades t LEFT JOIN ProfitableTrades p ON t.PURCHASER = p.PURCHASER JOIN TradeMetrics tm ON t.PURCHASER = tm.PURCHASER WHERE t.TotalTradeCount >= 20 AND tm.TotalProfit >= 1 AND PERCENTAGEPROFITABLETRADES >= 80 AND ROI >= 0.2 ORDER BY ROI DESC, PercentageProfitableTrades DESC LIMIT 50;\"\"\"\n",
    "\"\"\"Run the query against Flipside's query engine and await the results\"\"\"\n",
    "\n",
    "best_traders = run_query_and_get_df(best_traders)\n",
    "\n",
    "best_traders['twitter'] = best_traders['trader'].map(reversed_wallets).fillna('na')\n",
    "best_traders = best_traders[['twitter'] + [col for col in best_traders if col != 'twitter']]\n",
    "\n",
    "best_traders.head(8)"
   ]
  },
  {
   "cell_type": "markdown",
   "metadata": {},
   "source": [
    "## 1.4 NFT purchases"
   ]
  },
  {
   "cell_type": "markdown",
   "metadata": {},
   "source": [
    "We hereby collect data of NFT purchased by top Solana traders over various time ranges. Those NFTs have not necessarily been sold yet."
   ]
  },
  {
   "cell_type": "markdown",
   "metadata": {},
   "source": [
    "### 1.4.1 Collecting the data"
   ]
  },
  {
   "cell_type": "code",
   "execution_count": 4,
   "metadata": {},
   "outputs": [],
   "source": [
    "# Flipside query \n",
    "\n",
    "purchase_query = \"\"\"WITH Purchases AS ( SELECT MARKETPLACE, BLOCK_TIMESTAMP, PURCHASER, MINT, SALES_AMOUNT FROM solana.core.fact_nft_sales WHERE BLOCK_TIMESTAMP >= CURRENT_DATE - INTERVAL '30 days' AND SUCCEEDED = TRUE ), \n",
    "    Sales AS ( SELECT MARKETPLACE, BLOCK_TIMESTAMP, PURCHASER, SELLER, MINT, SALES_AMOUNT FROM solana.core.fact_nft_sales WHERE BLOCK_TIMESTAMP >= CURRENT_DATE - INTERVAL '30 days' AND SUCCEEDED = TRUE ), \n",
    "    Purchases_24hours AS ( SELECT MARKETPLACE, BLOCK_TIMESTAMP, PURCHASER, SELLER, MINT, SALES_AMOUNT FROM solana.core.fact_nft_sales WHERE BLOCK_TIMESTAMP >= CURRENT_DATE - INTERVAL '{interval}' AND SUCCEEDED = TRUE ), \n",
    "    TradeProfits AS ( SELECT p.PURCHASER, (s.SALES_AMOUNT - p.SALES_AMOUNT) AS Profit FROM Purchases p JOIN Sales s ON p.MINT = s.MINT AND p.PURCHASER = s.SELLER ), ProfitableTrades AS ( SELECT PURCHASER, COUNT(*) as ProfitableTradeCount FROM TradeProfits WHERE Profit > 0.1 GROUP BY PURCHASER ), \n",
    "    TotalTrades AS ( SELECT PURCHASER, COUNT(*) as TotalTradeCount FROM TradeProfits GROUP BY PURCHASER ), \n",
    "    FilteredTrades AS ( SELECT p.PURCHASER, s.SALES_AMOUNT - p.SALES_AMOUNT AS TradeProfit, p.SALES_AMOUNT AS Investment, (s.SALES_AMOUNT - p.SALES_AMOUNT) / p.SALES_AMOUNT AS ROI FROM Purchases p JOIN Sales s ON p.MINT = s.MINT AND p.PURCHASER = s.SELLER WHERE (s.SALES_AMOUNT - p.SALES_AMOUNT) / p.SALES_AMOUNT <= 10 AND (s.SALES_AMOUNT - p.SALES_AMOUNT) / p.SALES_AMOUNT >= -10 ), \n",
    "    TradeMetrics AS ( SELECT PURCHASER, SUM(TradeProfit) AS TotalProfit, SUM(Investment) AS Investment, SUM(TradeProfit) / SUM(Investment) AS ROI FROM FilteredTrades GROUP BY PURCHASER ), top50traders AS ( SELECT t.PURCHASER AS trader, IFNULL(p.ProfitableTradeCount, 0) AS ProfitableTradeCount, t.TotalTradeCount, (IFNULL(p.ProfitableTradeCount, 0) * 100.0 / t.TotalTradeCount) AS PercentageProfitableTrades, tm.TotalProfit, tm.Investment, tm.ROI FROM TotalTrades t LEFT JOIN ProfitableTrades p ON t.PURCHASER = p.PURCHASER JOIN TradeMetrics tm ON t.PURCHASER = tm.PURCHASER WHERE t.TotalTradeCount > 20 AND tm.TotalProfit > 1 AND PERCENTAGEPROFITABLETRADES > 80 AND ROI > 0.2 ORDER BY ROI DESC, PercentageProfitableTrades DESC LIMIT 50 ) SELECT p.PURCHASER AS ACHETEUR, p.MINT AS NFT, p.BLOCK_TIMESTAMP AS DATE_ACHAT, p.SALES_AMOUNT AS PRIX_ACHAT FROM Purchases_24hours p JOIN Top50Traders t50 ON p.PURCHASER = t50.trader ORDER BY t50.TotalProfit DESC;\"\"\"\n",
    "\n",
    "# For Purchases 7d\n",
    "purchases_7d_query = purchase_query.format(interval='7 days')\n",
    "purchases_7d = run_query_and_get_df(purchases_7d_query)\n",
    "purchases_7d = add_collections_to_df(purchases_7d)\n",
    "\n",
    "# For Purchases 24h\n",
    "purchases_24h_query = purchase_query.format(interval='1 days')\n",
    "purchases_24h = run_query_and_get_df(purchases_24h_query)\n",
    "purchases_24h = purchases_24h.merge(purchases_7d[['nft', 'collection']], on='nft', how='left')\n",
    "\n",
    "# For Purchases 6h\n",
    "purchases_6h_query = purchase_query.format(interval='6 hours')\n",
    "purchases_6h = run_query_and_get_df(purchases_6h_query)\n",
    "purchases_6h = purchases_6h.merge(purchases_7d[['nft', 'collection']], on='nft', how='left')\n",
    "\n",
    "# For Purchases 1h\n",
    "purchases_1h_query = purchase_query.format(interval='1 hour')\n",
    "purchases_1h = run_query_and_get_df(purchases_1h_query)\n",
    "purchases_1h = purchases_1h.merge(purchases_7d[['nft', 'collection']], on='nft', how='left')\n"
   ]
  },
  {
   "cell_type": "markdown",
   "metadata": {},
   "source": [
    "### 1.4.2 Grouped purchases"
   ]
  },
  {
   "cell_type": "markdown",
   "metadata": {},
   "source": [
    "Grouping the purchases enables a better undertanding of the most traded collections over different time ranges. Collections are then sorted by total volume traded. The idea is to identify which collections our traders of interest are focussing on."
   ]
  },
  {
   "cell_type": "code",
   "execution_count": 5,
   "metadata": {},
   "outputs": [],
   "source": [
    "def group_and_sort_purchases(df):\n",
    "    grouped_purchases = df.groupby('collection').agg(\n",
    "        num_purchases=('prix_achat', 'count'),             # Count of purchases\n",
    "        unique_buyers=('acheteur', 'nunique'),             # Number of unique buyers\n",
    "        avg_price=('prix_achat', 'mean'),                  # Average purchase price\n",
    "        min_price=('prix_achat', 'min'),                   # Minimum purchase price\n",
    "        max_price=('prix_achat', 'max'),                   # Maximum purchase price\n",
    "        median_price=('prix_achat', 'median'),             # Median purchase price\n",
    "        volume=('prix_achat', 'sum')\n",
    "    ).reset_index()\n",
    "\n",
    "    # Sort by volume\n",
    "    return grouped_purchases.sort_values(by='volume', ascending=False)\n",
    "\n",
    "# Apply the function to each dataframe\n",
    "sorted_purchases_7d = group_and_sort_purchases(purchases_7d)\n",
    "sorted_purchases_24h = group_and_sort_purchases(purchases_24h)\n",
    "sorted_purchases_6h = group_and_sort_purchases(purchases_6h)\n",
    "sorted_purchases_1h = group_and_sort_purchases(purchases_1h)\n"
   ]
  },
  {
   "cell_type": "markdown",
   "metadata": {},
   "source": [
    "## 1.5 NFT Sales"
   ]
  },
  {
   "cell_type": "markdown",
   "metadata": {},
   "source": [
    "We hereby collect data of NFT sales by top Solana traders over various time ranges."
   ]
  },
  {
   "cell_type": "markdown",
   "metadata": {},
   "source": [
    "### 1.5.1 Collecting the data"
   ]
  },
  {
   "cell_type": "code",
   "execution_count": 6,
   "metadata": {},
   "outputs": [],
   "source": [
    "# SQL Base Template for Sales\n",
    "sales_query = \"\"\"WITH Purchases AS ( SELECT MARKETPLACE, BLOCK_TIMESTAMP, PURCHASER, MINT, SALES_AMOUNT FROM solana.core.fact_nft_sales WHERE BLOCK_TIMESTAMP >= CURRENT_DATE - INTERVAL '30 days' AND SUCCEEDED = TRUE ), \n",
    "Sales AS ( SELECT MARKETPLACE, BLOCK_TIMESTAMP, PURCHASER, SELLER, MINT, SALES_AMOUNT FROM solana.core.fact_nft_sales WHERE BLOCK_TIMESTAMP >= CURRENT_DATE - INTERVAL '30 days' AND SUCCEEDED = TRUE ), \n",
    "Sales_24hours AS ( SELECT MARKETPLACE, BLOCK_TIMESTAMP, PURCHASER, SELLER, MINT, SALES_AMOUNT FROM solana.core.fact_nft_sales WHERE BLOCK_TIMESTAMP >= CURRENT_DATE - INTERVAL '{interval}' AND SUCCEEDED = TRUE ), \n",
    "TradeProfits AS ( SELECT p.PURCHASER, (s.SALES_AMOUNT - p.SALES_AMOUNT) AS Profit FROM Sales s JOIN Purchases p ON p.MINT = s.MINT AND p.PURCHASER = s.SELLER AND p.BLOCK_TIMESTAMP = ( SELECT MAX(p2.BLOCK_TIMESTAMP) FROM Purchases p2 WHERE p2.MINT = s.MINT AND p2.PURCHASER = s.SELLER AND p2.BLOCK_TIMESTAMP < s.BLOCK_TIMESTAMP) ), \n",
    "ProfitableTrades AS ( SELECT PURCHASER, COUNT(*) as ProfitableTradeCount FROM TradeProfits WHERE Profit > 0.1 GROUP BY PURCHASER ), TotalTrades AS ( SELECT PURCHASER, COUNT(*) as TotalTradeCount FROM TradeProfits GROUP BY PURCHASER ), FilteredTrades AS ( SELECT p.PURCHASER, s.SALES_AMOUNT - p.SALES_AMOUNT AS TradeProfit, p.SALES_AMOUNT AS Investment, (s.SALES_AMOUNT - p.SALES_AMOUNT) / p.SALES_AMOUNT AS ROI FROM Purchases p JOIN Sales s ON p.MINT = s.MINT AND p.PURCHASER = s.SELLER WHERE (s.SALES_AMOUNT - p.SALES_AMOUNT) / p.SALES_AMOUNT <= 10 AND (s.SALES_AMOUNT - p.SALES_AMOUNT) / p.SALES_AMOUNT >= -10 ), \n",
    "TradeMetrics AS ( SELECT PURCHASER, SUM(TradeProfit) AS TotalProfit, SUM(Investment) AS Investment, SUM(TradeProfit) / SUM(Investment) AS ROI FROM FilteredTrades GROUP BY PURCHASER ), top50traders AS ( SELECT t.PURCHASER AS trader, IFNULL(p.ProfitableTradeCount, 0) AS ProfitableTradeCount, t.TotalTradeCount, (IFNULL(p.ProfitableTradeCount, 0) * 100.0 / t.TotalTradeCount) AS PercentageProfitableTrades, tm.TotalProfit, tm.Investment, tm.ROI FROM TotalTrades t LEFT JOIN ProfitableTrades p ON t.PURCHASER = p.PURCHASER JOIN TradeMetrics tm ON t.PURCHASER = tm.PURCHASER WHERE t.TotalTradeCount > 20 AND tm.TotalProfit > 1 AND PERCENTAGEPROFITABLETRADES > 80 AND ROI > 0.2 ORDER BY ROI DESC, PercentageProfitableTrades DESC LIMIT 50 ) SELECT p.PURCHASER AS VENDEUR, s.PURCHASER AS ACHETEUR, p.MINT AS NFT, p.BLOCK_TIMESTAMP AS DATE_ACHAT, s.BLOCK_TIMESTAMP AS DATE_VENTE, p.SALES_AMOUNT AS PRIX_ACHAT, s.SALES_AMOUNT AS PRIX_VENTE, (s.SALES_AMOUNT - p.SALES_AMOUNT) AS PROFIT, (s.SALES_AMOUNT - p.SALES_AMOUNT) / p.SALES_AMOUNT AS ROI FROM Purchases p JOIN Sales_24hours s ON p.MINT = s.MINT AND p.PURCHASER = s.SELLER AND p.BLOCK_TIMESTAMP = ( SELECT MAX(p2.BLOCK_TIMESTAMP) FROM Purchases p2 WHERE p2.MINT = s.MINT AND p2.PURCHASER = s.SELLER AND p2.BLOCK_TIMESTAMP < s.BLOCK_TIMESTAMP) JOIN Top50Traders t50 ON p.PURCHASER = t50.trader WHERE ((s.SALES_AMOUNT - p.SALES_AMOUNT) / p.SALES_AMOUNT) <= 10 AND ((s.SALES_AMOUNT - p.SALES_AMOUNT) / p.SALES_AMOUNT) >= -10 ORDER BY PROFIT DESC;\"\"\"\n",
    "\n",
    "# For Sales 7d\n",
    "sales_7d_query = sales_query.format(interval='7 days')\n",
    "sales_7d = run_query_and_get_df(sales_7d_query)\n",
    "sales_7d = add_collections_to_df(sales_7d)\n",
    "\n",
    "# For Sales 24h\n",
    "sales_24h_query = sales_query.format(interval='1 days')\n",
    "sales_24h = run_query_and_get_df(sales_24h_query)\n",
    "sales_24h = sales_24h.merge(sales_7d[['nft', 'collection']], on='nft', how='left')\n",
    "\n",
    "# For Sales 6h\n",
    "sales_6h_query = sales_query.format(interval='6 hours')\n",
    "sales_6h = run_query_and_get_df(sales_6h_query)\n",
    "sales_6h = sales_6h.merge(sales_7d[['nft', 'collection']], on='nft', how='left')\n",
    "\n",
    "# For Sales 1h\n",
    "sales_1h_query = sales_query.format(interval='1 hour')\n",
    "sales_1h = run_query_and_get_df(sales_1h_query)\n",
    "sales_1h = sales_1h.merge(sales_7d[['nft', 'collection']], on='nft', how='left')\n"
   ]
  },
  {
   "cell_type": "markdown",
   "metadata": {},
   "source": [
    "### 1.5.2 Grouped sales"
   ]
  },
  {
   "cell_type": "markdown",
   "metadata": {},
   "source": [
    "Sales are also grouped by collection. This will then allow a comparison between collections bought and sold by our top traders"
   ]
  },
  {
   "cell_type": "code",
   "execution_count": 7,
   "metadata": {},
   "outputs": [],
   "source": [
    "def group_and_sort_sales(df):\n",
    "    grouped_sales = df.groupby('collection').agg(\n",
    "        num_sales=('prix_vente', 'count'),   # Count of sales\n",
    "        avg_roi=('roi', 'mean'),             # Average ROI\n",
    "        avg_price=('prix_vente', 'mean'),    # Average sales price\n",
    "        min_price=('prix_vente', 'min'),     # Minimum sales price\n",
    "        max_price=('prix_vente', 'max'),     # Maximum sales price\n",
    "        median_price=('prix_vente', 'median'), # Median sales price\n",
    "        volume=('prix_vente', 'sum')\n",
    "    ).reset_index()\n",
    "\n",
    "    # Sort by volume\n",
    "    return grouped_sales.sort_values(by='volume', ascending=False)\n",
    "\n",
    "# Apply the function to each dataframe\n",
    "sorted_sales_7d = group_and_sort_sales(sales_7d)\n",
    "sorted_sales_24h = group_and_sort_sales(sales_24h)\n",
    "sorted_sales_6h = group_and_sort_sales(sales_6h)\n",
    "sorted_sales_1h = group_and_sort_sales(sales_1h)"
   ]
  },
  {
   "cell_type": "markdown",
   "metadata": {},
   "source": [
    "---\n",
    "# PART 2: Pinpointing Key Collections\n",
    "---"
   ]
  },
  {
   "cell_type": "markdown",
   "metadata": {},
   "source": [
    "## 2.1 Understanding holding time : trades by best NFT traders (30 days)"
   ]
  },
  {
   "cell_type": "markdown",
   "metadata": {},
   "source": [
    "### 2.1.1 All trades"
   ]
  },
  {
   "cell_type": "markdown",
   "metadata": {},
   "source": [
    "We first plot the holding time for NFTs both bought and sold in the last 30 days and split them in different categories."
   ]
  },
  {
   "cell_type": "code",
   "execution_count": 10,
   "metadata": {},
   "outputs": [
    {
     "data": {
      "image/png": "[encoded data removed]",
      "text/plain": [
       "<Figure size 864x432 with 1 Axes>"
      ]
     },
     "metadata": {
      "needs_background": "light"
     },
     "output_type": "display_data"
    },
    {
     "name": "stdout",
     "output_type": "stream",
     "text": [
      "2.99% of NFTs are kept less than or equal to 0-1 hour\n",
      "24.75% of NFTs are kept less than or equal to 1-12h\n",
      "44.36% of NFTs are kept less than or equal to 12-24h\n",
      "63.19% of NFTs are kept less than or equal to 24-48h\n",
      "73.78% of NFTs are kept less than or equal to 48-72h\n",
      "87.47% of NFTs are kept less than or equal to 48h-7d\n",
      "100.00% of NFTs are kept less than or equal to +7days\n"
     ]
    },
    {
     "name": "stderr",
     "output_type": "stream",
     "text": [
      "<ipython-input-10-7c21925016f1>:52: FutureWarning: iteritems is deprecated and will be removed in a future version. Use .items instead.\n",
      "  for category, percentage in cumulative_percentages.iteritems():\n"
     ]
    }
   ],
   "source": [
    "# Convert hodl_time from minutes to hours\n",
    "trades_30d['hodl_time_hours'] = trades_30d['hodl_time'] / 60\n",
    "\n",
    "# Defining a function to set the time hold in the right format\n",
    "\n",
    "def minutes_to_dhms(minutes):\n",
    "    '''Convert minutes into days, hours, and minutes.'''\n",
    "    days = minutes // (24 * 60)\n",
    "    minutes %= (24 * 60)\n",
    "    hours = minutes // 60\n",
    "    minutes %= 60\n",
    "    return days, hours, minutes\n",
    "\n",
    "\n",
    "# Create hodl_category based on hodl_time_hours\n",
    "conditions = [\n",
    "    (trades_30d['hodl_time_hours'] <= 1),\n",
    "    (trades_30d['hodl_time_hours'] > 1) & (trades_30d['hodl_time_hours'] <= 12),\n",
    "    (trades_30d['hodl_time_hours'] > 12) & (trades_30d['hodl_time_hours'] <= 24),\n",
    "    (trades_30d['hodl_time_hours'] > 24) & (trades_30d['hodl_time_hours'] <= 48),\n",
    "    (trades_30d['hodl_time_hours'] > 48) & (trades_30d['hodl_time_hours'] <= 72),\n",
    "    (trades_30d['hodl_time_hours'] > 72) & (trades_30d['hodl_time_hours'] <= 168),\n",
    "    (trades_30d['hodl_time_hours'] > 168)\n",
    "]\n",
    "choices = ['0-1 hour', '1-12h', '12-24h', '24-48h', '48-72h', '48h-7d', '+7days']\n",
    "\n",
    "trades_30d['hodl_category'] = np.select(conditions, choices, default='Unknown')\n",
    "\n",
    "\n",
    "# Count the number of NFTs in each category\n",
    "category_counts = trades_30d['hodl_category'].value_counts()\n",
    "\n",
    "# Order the counts based on our defined order of categories\n",
    "ordered_counts = category_counts.loc[choices]\n",
    "\n",
    "# Calculate the cumulative sum of these counts\n",
    "cumulative_counts = ordered_counts.cumsum()\n",
    "\n",
    "# Convert the cumulative sum to percentages\n",
    "total_nfts = len(trades_30d)\n",
    "cumulative_percentages = (cumulative_counts / total_nfts) * 100\n",
    "\n",
    "# Plotting\n",
    "plt.figure(figsize=(12, 6))\n",
    "sns.countplot(x='hodl_category', data=trades_30d, order=choices)\n",
    "plt.title('Distribution of Trades by HODL Time')\n",
    "plt.ylabel('Number of Trades')\n",
    "plt.xlabel('HODL Time Category')\n",
    "plt.show()\n",
    "\n",
    "# Print the percentages for each category\n",
    "for category, percentage in cumulative_percentages.iteritems():\n",
    "    print(f\"{percentage:.2f}% of NFTs are kept less than or equal to {category}\")\n"
   ]
  },
  {
   "cell_type": "markdown",
   "metadata": {},
   "source": [
    "This teaches us the a vast majority of NFT that were both bought and sold in the last 30 days were actually sold in in the next 7 days. Actually, the median hold time is under two days. Before continuing the analysis, we look at the best top 10% best trades in ROI, to see whether these were performed rather on short time period or have a similar distribution."
   ]
  },
  {
   "cell_type": "markdown",
   "metadata": {},
   "source": [
    "### 2.1.2 Top 10% trades (ROI)"
   ]
  },
  {
   "cell_type": "code",
   "execution_count": 11,
   "metadata": {},
   "outputs": [],
   "source": [
    "# Selecting only the top 10 percent trades (looking at ROI)\n",
    "roi_threshold = trades_30d['roi'].quantile(0.9)\n",
    "top_ROI_30d = trades_30d[trades_30d['roi'] > roi_threshold]"
   ]
  },
  {
   "cell_type": "code",
   "execution_count": 54,
   "metadata": {},
   "outputs": [
    {
     "name": "stdout",
     "output_type": "stream",
     "text": [
      "0.52% of NFTs are kept less than or equal to 0-1 hour\n",
      "20.94% of NFTs are kept less than or equal to 1-12h\n",
      "69.63% of NFTs are kept less than or equal to 12-24h\n",
      "89.01% of NFTs are kept less than or equal to 24-48h\n",
      "91.62% of NFTs are kept less than or equal to 48-72h\n",
      "94.24% of NFTs are kept less than or equal to 48h-7d\n",
      "100.00% of NFTs are kept less than or equal to +7days\n",
      "\n",
      "The median hold time for NFTs is 0.0 days, 16.0 hours, and 54.0 minutes.\n",
      "\n"
     ]
    },
    {
     "name": "stderr",
     "output_type": "stream",
     "text": [
      "<ipython-input-54-505d90c693ac>:15: FutureWarning: iteritems is deprecated and will be removed in a future version. Use .items instead.\n",
      "  for category, percentage in cumulative_percentages.iteritems():\n"
     ]
    }
   ],
   "source": [
    "# Count the number of NFTs in each category\n",
    "category_counts = top_ROI_30d['hodl_category'].value_counts()\n",
    "\n",
    "# Order the counts based on our defined order of categories\n",
    "ordered_counts = category_counts.loc[choices]\n",
    "\n",
    "# Calculate the cumulative sum of these counts\n",
    "cumulative_counts = ordered_counts.cumsum()\n",
    "\n",
    "# Convert the cumulative sum to percentages\n",
    "total_nfts = len(top_ROI_30d)\n",
    "cumulative_percentages = (cumulative_counts / total_nfts) * 100\n",
    "\n",
    "# Print the percentages for each category\n",
    "for category, percentage in cumulative_percentages.iteritems():\n",
    "    print(f\"{percentage:.2f}% of NFTs are kept less than or equal to {category}\")\n",
    "    \n",
    "# Calculate and print the median hold time in days, hours, and minutes\n",
    "median_hold_time = top_ROI_30d['hodl_time'].median()\n",
    "days, hours, mins = minutes_to_dhms(median_hold_time)\n",
    "print('')\n",
    "print(f\"The median hold time for NFTs is {days} days, {hours} hours, and {mins} minutes.\")\n",
    "print('')"
   ]
  },
  {
   "cell_type": "markdown",
   "metadata": {},
   "source": [
    "This analysis highlights the fact that the most profitable trades are actually usually very short term (less than 48h) with a median hold time of just above 17 hours. \n",
    "\n",
    "The idea is now to understand which of the collections have been bought and sold in the last 7 days, the enables us to understand which collections our traders focus on at the moment and collect additional data about for these specific projects."
   ]
  },
  {
   "cell_type": "markdown",
   "metadata": {},
   "source": [
    "## 1.2 Identifying most profitable collections in the last 7 days"
   ]
  },
  {
   "cell_type": "markdown",
   "metadata": {},
   "source": [
    "In this section, we try to understand which collection our best traders are trading in the last 30 days. Of those collection, we then use performance measures to assess which colllections have been the most profitable for our top Solana NFT traders. "
   ]
  },
  {
   "cell_type": "markdown",
   "metadata": {},
   "source": [
    "### 1.2.1 NFT trades"
   ]
  },
  {
   "cell_type": "markdown",
   "metadata": {},
   "source": [
    "We start by looking at key measures to assess most profitable collections traded by our top traders in the last 7 days. "
   ]
  },
  {
   "cell_type": "markdown",
   "metadata": {},
   "source": [
    "**Collecting key measures**"
   ]
  },
  {
   "cell_type": "code",
   "execution_count": 55,
   "metadata": {},
   "outputs": [],
   "source": [
    "# Count of trades by collection \n",
    "num_sales = trades_7d.groupby('collection').size()\n",
    "\n",
    "# Median profit for each collection\n",
    "median_profit = trades_7d.groupby('collection')['profit'].median()\n",
    "\n",
    "# Total profit for each collection\n",
    "sum_profit = trades_7d.groupby('collection')['profit'].sum()\n",
    "\n",
    "# Median ROI for each collection\n",
    "median_roi = trades_7d.groupby('collection')['roi'].median()\n",
    "\n",
    "# Filter out collections with more than 5 trades (we do not focus on collections that are barely traded)\n",
    "collections_with_more_than_5_sales = num_sales[num_sales > 5].index\n",
    "\n",
    "# Create a dataframe\n",
    "df_collections = pd.DataFrame({\n",
    "    'Number_of_Sales': num_sales,\n",
    "    'Median_Profit': median_profit,\n",
    "    'Median_Roi': median_roi\n",
    "})\n",
    "\n",
    "# Filter based on collections with more than 5 trades\n",
    "df_collections = df_collections[df_collections.index.isin(collections_with_more_than_5_sales)]"
   ]
  },
  {
   "cell_type": "markdown",
   "metadata": {},
   "source": [
    "**Most profitable collections collections**"
   ]
  },
  {
   "cell_type": "markdown",
   "metadata": {},
   "source": [
    "We select collections that both have high median profit on trades as well as high median ROI"
   ]
  },
  {
   "cell_type": "code",
   "execution_count": 56,
   "metadata": {},
   "outputs": [
    {
     "data": {
      "text/html": [
       "<div>\n",
       "<style scoped>\n",
       "    .dataframe tbody tr th:only-of-type {\n",
       "        vertical-align: middle;\n",
       "    }\n",
       "\n",
       "    .dataframe tbody tr th {\n",
       "        vertical-align: top;\n",
       "    }\n",
       "\n",
       "    .dataframe thead th {\n",
       "        text-align: right;\n",
       "    }\n",
       "</style>\n",
       "<table border=\"1\" class=\"dataframe\">\n",
       "  <thead>\n",
       "    <tr style=\"text-align: right;\">\n",
       "      <th></th>\n",
       "      <th>Number_of_Sales</th>\n",
       "      <th>Median_Profit</th>\n",
       "      <th>Median_Roi</th>\n",
       "    </tr>\n",
       "    <tr>\n",
       "      <th>collection</th>\n",
       "      <th></th>\n",
       "      <th></th>\n",
       "      <th></th>\n",
       "    </tr>\n",
       "  </thead>\n",
       "  <tbody>\n",
       "    <tr>\n",
       "      <th>assetdash_vanta</th>\n",
       "      <td>30</td>\n",
       "      <td>3.949581</td>\n",
       "      <td>0.403237</td>\n",
       "    </tr>\n",
       "    <tr>\n",
       "      <th>clear_collectibles</th>\n",
       "      <td>62</td>\n",
       "      <td>0.658997</td>\n",
       "      <td>0.363598</td>\n",
       "    </tr>\n",
       "    <tr>\n",
       "      <th>dgs_gen1</th>\n",
       "      <td>31</td>\n",
       "      <td>0.423704</td>\n",
       "      <td>0.494658</td>\n",
       "    </tr>\n",
       "    <tr>\n",
       "      <th>downgrapes</th>\n",
       "      <td>40</td>\n",
       "      <td>0.282804</td>\n",
       "      <td>0.312957</td>\n",
       "    </tr>\n",
       "    <tr>\n",
       "      <th>helions</th>\n",
       "      <td>19</td>\n",
       "      <td>0.461968</td>\n",
       "      <td>0.212738</td>\n",
       "    </tr>\n",
       "    <tr>\n",
       "      <th>honeyland_generations_bees</th>\n",
       "      <td>16</td>\n",
       "      <td>0.355938</td>\n",
       "      <td>2.098316</td>\n",
       "    </tr>\n",
       "    <tr>\n",
       "      <th>magicticket</th>\n",
       "      <td>8</td>\n",
       "      <td>0.238044</td>\n",
       "      <td>0.162975</td>\n",
       "    </tr>\n",
       "    <tr>\n",
       "      <th>reavers</th>\n",
       "      <td>163</td>\n",
       "      <td>2.251257</td>\n",
       "      <td>0.276646</td>\n",
       "    </tr>\n",
       "    <tr>\n",
       "      <th>shredded_apes_gym_club</th>\n",
       "      <td>6</td>\n",
       "      <td>0.544727</td>\n",
       "      <td>0.175985</td>\n",
       "    </tr>\n",
       "  </tbody>\n",
       "</table>\n",
       "</div>"
      ],
      "text/plain": [
       "                            Number_of_Sales  Median_Profit  Median_Roi\n",
       "collection                                                            \n",
       "assetdash_vanta                          30       3.949581    0.403237\n",
       "clear_collectibles                       62       0.658997    0.363598\n",
       "dgs_gen1                                 31       0.423704    0.494658\n",
       "downgrapes                               40       0.282804    0.312957\n",
       "helions                                  19       0.461968    0.212738\n",
       "honeyland_generations_bees               16       0.355938    2.098316\n",
       "magicticket                               8       0.238044    0.162975\n",
       "reavers                                 163       2.251257    0.276646\n",
       "shredded_apes_gym_club                    6       0.544727    0.175985"
      ]
     },
     "execution_count": 56,
     "metadata": {},
     "output_type": "execute_result"
    }
   ],
   "source": [
    "# Sort by descending median profit\n",
    "best_profit = df_collections.sort_values(by='Median_Profit', ascending=False)\n",
    "# Sort by descending median profit\n",
    "best_roi = df_collections.sort_values(by='Median_Roi', ascending=False)\n",
    "\n",
    "\n",
    "# Extract top 10 collection names from both rankings\n",
    "top10_profit_collections = best_profit.index[:10].tolist()\n",
    "top10_roi_collections = best_roi.index[:10].tolist()\n",
    "\n",
    "# Find the intersection of the two lists\n",
    "common_top10_collections = list(set(top10_profit_collections) & set(top10_roi_collections))\n",
    "\n",
    "# Filter the original DataFrame using the intersection\n",
    "best_collections = df_collections[df_collections.index.isin(common_top10_collections)]\n",
    "\n",
    "best_collections"
   ]
  },
  {
   "cell_type": "markdown",
   "metadata": {},
   "source": [
    "Table above gives us an idea of the collection traded this past week and that have been both profitable in terms of absolute profit and ROI for our traders of interets. One limitation of looking at these collections though, is that our traders have already realised profit on these collections. As such it is potentially already too late to focus on investing in these."
   ]
  },
  {
   "cell_type": "markdown",
   "metadata": {},
   "source": [
    "### 1.1.2  NFT purchases "
   ]
  },
  {
   "cell_type": "markdown",
   "metadata": {},
   "source": [
    "We therefore also have a look at collections that our traders are heavily investing in right now, and have not necessarily sold yet. Identyfing these collections will then be used to collect additional data about them."
   ]
  },
  {
   "cell_type": "code",
   "execution_count": 57,
   "metadata": {},
   "outputs": [
    {
     "name": "stdout",
     "output_type": "stream",
     "text": [
      "There have been 33 active top Solana traders purchasing NFTs in the last 7d, trading 175 collections for a total of 1096 purchases.\n"
     ]
    }
   ],
   "source": [
    "n_purchasers = purchases_7d['acheteur'].nunique()\n",
    "n_collections = purchases_7d['collection'].nunique()\n",
    "n_purchases = len(purchases_7d)\n",
    "\n",
    "print(f'There have been {n_purchasers} active top Solana traders purchasing NFTs in the last 7d, trading {n_collections} collections for a total of {n_purchases} purchases.')"
   ]
  },
  {
   "cell_type": "code",
   "execution_count": 58,
   "metadata": {},
   "outputs": [
    {
     "data": {
      "text/html": [
       "<div>\n",
       "<style scoped>\n",
       "    .dataframe tbody tr th:only-of-type {\n",
       "        vertical-align: middle;\n",
       "    }\n",
       "\n",
       "    .dataframe tbody tr th {\n",
       "        vertical-align: top;\n",
       "    }\n",
       "\n",
       "    .dataframe thead th {\n",
       "        text-align: right;\n",
       "    }\n",
       "</style>\n",
       "<table border=\"1\" class=\"dataframe\">\n",
       "  <thead>\n",
       "    <tr style=\"text-align: right;\">\n",
       "      <th></th>\n",
       "      <th>collection</th>\n",
       "      <th>num_purchases</th>\n",
       "      <th>unique_buyers</th>\n",
       "      <th>avg_price</th>\n",
       "      <th>min_price</th>\n",
       "      <th>max_price</th>\n",
       "      <th>median_price</th>\n",
       "      <th>volume</th>\n",
       "    </tr>\n",
       "  </thead>\n",
       "  <tbody>\n",
       "    <tr>\n",
       "      <th>29</th>\n",
       "      <td>clear_collectibles</td>\n",
       "      <td>154</td>\n",
       "      <td>9</td>\n",
       "      <td>2.030858</td>\n",
       "      <td>1.585412</td>\n",
       "      <td>7.485204</td>\n",
       "      <td>1.832916</td>\n",
       "      <td>312.752139</td>\n",
       "    </tr>\n",
       "    <tr>\n",
       "      <th>115</th>\n",
       "      <td>reavers</td>\n",
       "      <td>18</td>\n",
       "      <td>4</td>\n",
       "      <td>8.837812</td>\n",
       "      <td>7.679160</td>\n",
       "      <td>12.471548</td>\n",
       "      <td>8.863448</td>\n",
       "      <td>159.080624</td>\n",
       "    </tr>\n",
       "    <tr>\n",
       "      <th>64</th>\n",
       "      <td>helions</td>\n",
       "      <td>61</td>\n",
       "      <td>1</td>\n",
       "      <td>2.419110</td>\n",
       "      <td>2.150056</td>\n",
       "      <td>2.785481</td>\n",
       "      <td>2.400159</td>\n",
       "      <td>147.565701</td>\n",
       "    </tr>\n",
       "    <tr>\n",
       "      <th>43</th>\n",
       "      <td>degenfatcats</td>\n",
       "      <td>12</td>\n",
       "      <td>1</td>\n",
       "      <td>6.675535</td>\n",
       "      <td>6.165240</td>\n",
       "      <td>7.031760</td>\n",
       "      <td>6.771819</td>\n",
       "      <td>80.106416</td>\n",
       "    </tr>\n",
       "    <tr>\n",
       "      <th>126</th>\n",
       "      <td>smb_barrel</td>\n",
       "      <td>6</td>\n",
       "      <td>1</td>\n",
       "      <td>11.168362</td>\n",
       "      <td>10.631564</td>\n",
       "      <td>11.705448</td>\n",
       "      <td>11.168128</td>\n",
       "      <td>67.010173</td>\n",
       "    </tr>\n",
       "  </tbody>\n",
       "</table>\n",
       "</div>"
      ],
      "text/plain": [
       "             collection  num_purchases  unique_buyers  avg_price  min_price  \\\n",
       "29   clear_collectibles            154              9   2.030858   1.585412   \n",
       "115             reavers             18              4   8.837812   7.679160   \n",
       "64              helions             61              1   2.419110   2.150056   \n",
       "43         degenfatcats             12              1   6.675535   6.165240   \n",
       "126          smb_barrel              6              1  11.168362  10.631564   \n",
       "\n",
       "     max_price  median_price      volume  \n",
       "29    7.485204      1.832916  312.752139  \n",
       "115  12.471548      8.863448  159.080624  \n",
       "64    2.785481      2.400159  147.565701  \n",
       "43    7.031760      6.771819   80.106416  \n",
       "126  11.705448     11.168128   67.010173  "
      ]
     },
     "execution_count": 58,
     "metadata": {},
     "output_type": "execute_result"
    }
   ],
   "source": [
    "sorted_purchases_7d.head(5)"
   ]
  },
  {
   "cell_type": "markdown",
   "metadata": {},
   "source": [
    "### 1.2.3 All sales"
   ]
  },
  {
   "cell_type": "markdown",
   "metadata": {},
   "source": [
    "Next, looking at sales is interesting as it helps us identify which collections our traders are getting rid of. Most importantly, this data should be used to assess which collections have been overbought/oversold by our top traders in the last week."
   ]
  },
  {
   "cell_type": "code",
   "execution_count": 59,
   "metadata": {},
   "outputs": [
    {
     "name": "stdout",
     "output_type": "stream",
     "text": [
      "There have been 34 active top Solana traders selling NFTs in the last 7d, trading 114 collections for a total of 712 purchases.\n"
     ]
    }
   ],
   "source": [
    "n_sellers = sales_7d['vendeur'].nunique()\n",
    "n_collections = sales_7d['collection'].nunique()\n",
    "n_sales = len(sales_7d)\n",
    "\n",
    "print(f'There have been {n_sellers} active top Solana traders selling NFTs in the last 7d, trading {n_collections} collections for a total of {n_sales} purchases.')"
   ]
  },
  {
   "cell_type": "code",
   "execution_count": 60,
   "metadata": {},
   "outputs": [
    {
     "data": {
      "text/html": [
       "<div>\n",
       "<style scoped>\n",
       "    .dataframe tbody tr th:only-of-type {\n",
       "        vertical-align: middle;\n",
       "    }\n",
       "\n",
       "    .dataframe tbody tr th {\n",
       "        vertical-align: top;\n",
       "    }\n",
       "\n",
       "    .dataframe thead th {\n",
       "        text-align: right;\n",
       "    }\n",
       "</style>\n",
       "<table border=\"1\" class=\"dataframe\">\n",
       "  <thead>\n",
       "    <tr style=\"text-align: right;\">\n",
       "      <th></th>\n",
       "      <th>collection</th>\n",
       "      <th>num_sales</th>\n",
       "      <th>avg_roi</th>\n",
       "      <th>avg_price</th>\n",
       "      <th>min_price</th>\n",
       "      <th>max_price</th>\n",
       "      <th>median_price</th>\n",
       "      <th>volume</th>\n",
       "    </tr>\n",
       "  </thead>\n",
       "  <tbody>\n",
       "    <tr>\n",
       "      <th>76</th>\n",
       "      <td>reavers</td>\n",
       "      <td>146</td>\n",
       "      <td>0.301491</td>\n",
       "      <td>10.692314</td>\n",
       "      <td>7.450056</td>\n",
       "      <td>19.142808</td>\n",
       "      <td>10.376056</td>\n",
       "      <td>1561.077855</td>\n",
       "    </tr>\n",
       "    <tr>\n",
       "      <th>6</th>\n",
       "      <td>assetdash_vanta</td>\n",
       "      <td>29</td>\n",
       "      <td>0.430728</td>\n",
       "      <td>13.386467</td>\n",
       "      <td>11.493244</td>\n",
       "      <td>15.672761</td>\n",
       "      <td>13.621244</td>\n",
       "      <td>388.207547</td>\n",
       "    </tr>\n",
       "    <tr>\n",
       "      <th>22</th>\n",
       "      <td>clear_collectibles</td>\n",
       "      <td>70</td>\n",
       "      <td>0.574790</td>\n",
       "      <td>3.047603</td>\n",
       "      <td>1.840736</td>\n",
       "      <td>8.561448</td>\n",
       "      <td>3.102156</td>\n",
       "      <td>213.332225</td>\n",
       "    </tr>\n",
       "    <tr>\n",
       "      <th>47</th>\n",
       "      <td>helions</td>\n",
       "      <td>17</td>\n",
       "      <td>0.197051</td>\n",
       "      <td>2.631609</td>\n",
       "      <td>2.622764</td>\n",
       "      <td>2.633504</td>\n",
       "      <td>2.633504</td>\n",
       "      <td>44.737353</td>\n",
       "    </tr>\n",
       "    <tr>\n",
       "      <th>103</th>\n",
       "      <td>tomorrowland_winter</td>\n",
       "      <td>1</td>\n",
       "      <td>0.858807</td>\n",
       "      <td>44.618052</td>\n",
       "      <td>44.618052</td>\n",
       "      <td>44.618052</td>\n",
       "      <td>44.618052</td>\n",
       "      <td>44.618052</td>\n",
       "    </tr>\n",
       "  </tbody>\n",
       "</table>\n",
       "</div>"
      ],
      "text/plain": [
       "              collection  num_sales   avg_roi  avg_price  min_price  \\\n",
       "76               reavers        146  0.301491  10.692314   7.450056   \n",
       "6        assetdash_vanta         29  0.430728  13.386467  11.493244   \n",
       "22    clear_collectibles         70  0.574790   3.047603   1.840736   \n",
       "47               helions         17  0.197051   2.631609   2.622764   \n",
       "103  tomorrowland_winter          1  0.858807  44.618052  44.618052   \n",
       "\n",
       "     max_price  median_price       volume  \n",
       "76   19.142808     10.376056  1561.077855  \n",
       "6    15.672761     13.621244   388.207547  \n",
       "22    8.561448      3.102156   213.332225  \n",
       "47    2.633504      2.633504    44.737353  \n",
       "103  44.618052     44.618052    44.618052  "
      ]
     },
     "execution_count": 60,
     "metadata": {},
     "output_type": "execute_result"
    }
   ],
   "source": [
    "sorted_sales_7d.head()"
   ]
  },
  {
   "cell_type": "markdown",
   "metadata": {},
   "source": [
    "### 1.2.4 Purchased VS Sold collections"
   ]
  },
  {
   "cell_type": "markdown",
   "metadata": {},
   "source": [
    "We hereby compare the amount of NFTs sold per collection by our top nft traders. We look at top ten most bought NFT collections (by volume). For each collection, we compare the number of NFT bought versus sold by top traders. "
   ]
  },
  {
   "cell_type": "code",
   "execution_count": 61,
   "metadata": {},
   "outputs": [
    {
     "data": {
      "image/png": "[encoded data removed]",
      "text/plain": [
       "<Figure size 864x432 with 1 Axes>"
      ]
     },
     "metadata": {
      "needs_background": "light"
     },
     "output_type": "display_data"
    }
   ],
   "source": [
    "# Define a list of collections to keep\n",
    "collections_to_keep_7d = sorted_purchases_7d['collection'].head(10).tolist()\n",
    "\n",
    "\n",
    "# Filter the purchases_last24h DataFrame\n",
    "filtered_purchases = purchases_7d[purchases_7d['collection'].isin(collections_to_keep_7d)]\n",
    "filtered_sales = sales_7d[sales_7d['collection'].isin(collections_to_keep_7d)]\n",
    "\n",
    "\n",
    "# Group and count purchases and sales\n",
    "purchase_counts = filtered_purchases['collection'].value_counts()\n",
    "sale_counts = filtered_sales['collection'].value_counts()\n",
    "\n",
    "# Get positions for bar plot\n",
    "bar_width = 0.35\n",
    "index = np.arange(len(collections_to_keep_7d))\n",
    "\n",
    "# Determine collections that have had either sales or purchases (or both) in the past 7d\n",
    "valid_collections = [col for col in collections_to_keep_7d if col in purchase_counts or col in sale_counts]\n",
    "\n",
    "# Plotting\n",
    "fig, ax = plt.subplots(figsize=(12, 6))\n",
    "index = np.arange(len(valid_collections))\n",
    "bar1 = ax.bar(index, purchase_counts.reindex(valid_collections).fillna(0), bar_width, label='Purchases', align='center')\n",
    "bar2 = ax.bar(index + bar_width, sale_counts.reindex(valid_collections).fillna(0), bar_width, label='Sales', align='center')\n",
    "\n",
    "# Labeling and aesthetics\n",
    "ax.set_xlabel('Collections')\n",
    "ax.set_ylabel('Number of NFTs')\n",
    "ax.set_title('Number of NFTs Sold vs Bought in the Last 7d by Top Traders')\n",
    "ax.set_xticks(index + bar_width / 2)\n",
    "ax.set_xticklabels(valid_collections, rotation=45, ha='right')\n",
    "ax.legend()\n",
    "\n",
    "plt.tight_layout()\n",
    "plt.show()"
   ]
  },
  {
   "cell_type": "markdown",
   "metadata": {},
   "source": [
    "---\n",
    "\n",
    "# PART 3: Data Collection and storage for target Collections\n",
    "\n",
    "---"
   ]
  },
  {
   "cell_type": "markdown",
   "metadata": {},
   "source": [
    "From part 2, we have identified the most invested in collections over the last 7 days. We now collect additional information on these highly traded collections. The idea here, is to collect data on interesting collection troughout the days, and store into into a DB. Each day, we will then look at highly traded collections (part 4), and the data collected in this section can the be used to better understand price movements. "
   ]
  },
  {
   "cell_type": "markdown",
   "metadata": {},
   "source": [
    "## 3.1 Key Statistics"
   ]
  },
  {
   "cell_type": "markdown",
   "metadata": {},
   "source": [
    "**Adding today's stats for collections of interests to MongoDB**"
   ]
  },
  {
   "cell_type": "code",
   "execution_count": 20,
   "metadata": {},
   "outputs": [
    {
     "name": "stdout",
     "output_type": "stream",
     "text": [
      "Data for clear_collectibles inserted successfully!\n",
      "Data for reavers inserted successfully!\n",
      "Data for helions inserted successfully!\n",
      "Data for degenfatcats inserted successfully!\n",
      "Data for smb_barrel inserted successfully!\n",
      "Data for the_bastards inserted successfully!\n",
      "Data for vtopian inserted successfully!\n",
      "Data for honeyland_tickets inserted successfully!\n",
      "Data for underworld_nft inserted successfully!\n",
      "Data for lily inserted successfully!\n",
      "Data for okay_bears inserted successfully!\n",
      "Data for assetdash_vanta inserted successfully!\n",
      "Data for smb_gen3 inserted successfully!\n",
      "Data for p2_farmers_gs inserted successfully!\n",
      "Data for morts inserted successfully!\n",
      "Data for gates_of_brohalla inserted successfully!\n",
      "Data for maleficus inserted successfully!\n",
      "Data for tomorrowland_winter inserted successfully!\n",
      "Data for meegos inserted successfully!\n",
      "Data for honeyland_land inserted successfully!\n"
     ]
    }
   ],
   "source": [
    "# Connecting to the stats collection\n",
    "\n",
    "collections_stats = db.collections_stats\n",
    "\n",
    "# Requests setup\n",
    "base_url = \"https://api-mainnet.magiceden.dev/v2/collections/\"\n",
    "headers = {\"accept\": \"application/json\"}\n",
    "\n",
    "# Collection to analyze\n",
    "collections_to_keep = sorted_purchases_7d['collection'].head(20).tolist()\n",
    "\n",
    "# The date\n",
    "today_str = datetime.datetime.now().strftime(\"%Y-%m-%d\")\n",
    "\n",
    "\n",
    "for coll_name in collections_to_keep:\n",
    "    stats_url = base_url + coll_name + \"/stats\"\n",
    "    holders_url = base_url + coll_name + \"/holder_stats\"\n",
    "    \n",
    "    response_stats = requests.get(stats_url, headers=headers)\n",
    "    response_holders = requests.get(holders_url, headers=headers)\n",
    "    \n",
    "    today_str = datetime.datetime.now().strftime(\"%Y-%m-%d\")\n",
    "    \n",
    "    # Check if a document for this collection with today's date already exists\n",
    "    existing_entry = collections_stats.find_one({\"symbol\": coll_name, \"datetime\": {\"$regex\": \"^\" + today_str}})    \n",
    "    if existing_entry:\n",
    "        print(f\"Data for {coll_name} already exists for today. Skipping...\")\n",
    "        continue\n",
    "    \n",
    "    # Check if the request was successful before processing\n",
    "    if response_stats.status_code == 200 and response_holders.status_code == 200:\n",
    "        stats = response_stats.json()\n",
    "        \n",
    "        # Extracting totalSupply and uniqueHolders from holders_stats\n",
    "        holder_data = response_holders.json()\n",
    "        stats['totalSupply'] = holder_data['totalSupply']\n",
    "        stats['uniqueHolders'] = holder_data['uniqueHolders']\n",
    "        \n",
    "        # Adding today's date and time to the stats\n",
    "        stats['datetime'] = datetime.datetime.now().strftime(\"%Y-%m-%d %H:%M:%S\")\n",
    "        \n",
    "        # Inserting the data into MongoDB\n",
    "        collections_stats.insert_one(stats)\n",
    "        print(f\"Data for {coll_name} inserted successfully!\")\n",
    "    else:\n",
    "        print(f\"Failed to fetch data for {coll_name}. Status codes: {response_stats.status_code}, {response_holders.status_code}\")"
   ]
  },
  {
   "cell_type": "markdown",
   "metadata": {},
   "source": [
    "**Fetching historical stats of collections from mongoDB**"
   ]
  },
  {
   "cell_type": "code",
   "execution_count": 21,
   "metadata": {},
   "outputs": [],
   "source": [
    "# Fetch all documents from the collection\n",
    "data = list(collections_stats.find({}))\n",
    "\n",
    "# Convert the list of dictionaries into a DataFrame\n",
    "historical_stats = pd.DataFrame(data)\n",
    "\n",
    "# Display the first few rows of the DataFrame\n",
    "\n",
    "historical_stats.drop(columns=['_id'], inplace=True)\n",
    "\n",
    "historical_stats['floorPrice'] = historical_stats['floorPrice'] / (10**9)\n",
    "historical_stats['avgPrice24hr'] = historical_stats['avgPrice24hr'] / (10**9)\n",
    "historical_stats['volumeAll'] = historical_stats['volumeAll'] / (10**9)"
   ]
  },
  {
   "cell_type": "markdown",
   "metadata": {},
   "source": [
    "## 3.2 Listings"
   ]
  },
  {
   "cell_type": "markdown",
   "metadata": {},
   "source": [
    "**Current listings for collections of interests**"
   ]
  },
  {
   "cell_type": "code",
   "execution_count": 22,
   "metadata": {},
   "outputs": [
    {
     "name": "stdout",
     "output_type": "stream",
     "text": [
      "Data for clear_collectibles inserted successfully!\n",
      "Data for reavers inserted successfully!\n",
      "Data for helions inserted successfully!\n",
      "Data for degenfatcats inserted successfully!\n",
      "Data for smb_barrel inserted successfully!\n",
      "Data for the_bastards inserted successfully!\n",
      "Data for vtopian inserted successfully!\n",
      "Data for honeyland_tickets inserted successfully!\n",
      "Data for underworld_nft inserted successfully!\n",
      "Data for lily inserted successfully!\n",
      "Data for okay_bears inserted successfully!\n",
      "Data for assetdash_vanta inserted successfully!\n",
      "Data for smb_gen3 inserted successfully!\n",
      "Data for p2_farmers_gs inserted successfully!\n",
      "Data for morts inserted successfully!\n",
      "Data for gates_of_brohalla inserted successfully!\n",
      "Data for maleficus inserted successfully!\n",
      "Data for tomorrowland_winter inserted successfully!\n",
      "Data for meegos inserted successfully!\n",
      "Data for honeyland_land inserted successfully!\n"
     ]
    }
   ],
   "source": [
    "all_data = []\n",
    "\n",
    "base_url = \"https://api-mainnet.magiceden.dev/v2/collections/\"\n",
    "\n",
    "\n",
    "for coll_name in collections_to_keep:\n",
    "    url = base_url + coll_name + \"/listings\"\n",
    "    response = requests.get(url, headers=headers)\n",
    "    \n",
    "    if response.status_code == 200:\n",
    "        listings = response.json()\n",
    "        \n",
    "        for item in listings:\n",
    "            # Extracting only the required info\n",
    "            entry = {\n",
    "                'seller': item.get('seller', None),\n",
    "                'tokenMint': item.get('tokenMint', None),\n",
    "                'absolute_rarity': item.get('rarity', {}).get('moonrank', {}).get('absolute_rarity', None),\n",
    "                'price': item.get('price', None),\n",
    "                'pdaAddress': item.get('pdaAddress', None),\n",
    "                'collection': coll_name\n",
    "            }\n",
    "            all_data.append(entry)\n",
    "            \n",
    "    print(f\"Data for {coll_name} inserted successfully!\")\n",
    "\n",
    "# Convert list of dictionaries to DataFrame\n",
    "listings = pd.DataFrame(all_data)"
   ]
  },
  {
   "cell_type": "markdown",
   "metadata": {},
   "source": [
    "## 2.3 Top holders"
   ]
  },
  {
   "cell_type": "markdown",
   "metadata": {},
   "source": [
    "**Adding today's TOP Holders for collections of interests**"
   ]
  },
  {
   "cell_type": "code",
   "execution_count": 23,
   "metadata": {},
   "outputs": [
    {
     "name": "stdout",
     "output_type": "stream",
     "text": [
      "New data inserted for clear_collectibles!\n",
      "New data inserted for reavers!\n",
      "New data inserted for helions!\n",
      "New data inserted for degenfatcats!\n",
      "New data inserted for smb_barrel!\n",
      "New data inserted for the_bastards!\n",
      "New data inserted for vtopian!\n",
      "New data inserted for honeyland_tickets!\n",
      "New data inserted for underworld_nft!\n",
      "New data inserted for lily!\n",
      "New data inserted for okay_bears!\n",
      "New data inserted for assetdash_vanta!\n",
      "Unexpected data format for collection smb_gen3.\n",
      "New data inserted for smb_gen3!\n",
      "New data inserted for p2_farmers_gs!\n",
      "New data inserted for morts!\n",
      "New data inserted for gates_of_brohalla!\n",
      "New data inserted for maleficus!\n",
      "New data inserted for tomorrowland_winter!\n",
      "New data inserted for meegos!\n",
      "New data inserted for honeyland_land!\n"
     ]
    }
   ],
   "source": [
    "# My top holders collection\n",
    "\n",
    "topholders_db = db.holders_data\n",
    "\n",
    "\n",
    "# Inserting the top holders data in MongoDB\n",
    "for coll_name in collections_to_keep:\n",
    "    holders_url = base_url + coll_name + \"/holder_stats\"\n",
    "    response_holders = requests.get(holders_url, headers=headers)\n",
    "\n",
    "    # Flag to determine if new data was inserted for this collection\n",
    "    new_data_inserted = False\n",
    "\n",
    "    if response_holders.status_code == 200:\n",
    "        holder_data = response_holders.json()\n",
    "\n",
    "        # Loop through the topHolders\n",
    "        for holder in holder_data['topHolders']:\n",
    "            # Check for the existence of expected keys\n",
    "            if all(key in holder for key in ['owner', 'tokens', 'buy7d', 'sell7d']):\n",
    "                owner = holder['owner']\n",
    "                tokens = holder['tokens']\n",
    "                buy7d = holder['buy7d']['count']\n",
    "                sell7d = holder['sell7d']['count']\n",
    "\n",
    "                # Check if data for this holder with today's date already exists\n",
    "                existing_entry = topholders_db.find_one({\"owner\": owner, \"date\": today_str, \"collection_name\": coll_name})\n",
    "\n",
    "                if not existing_entry:\n",
    "                    entry = {\n",
    "                        \"collection_name\": coll_name,\n",
    "                        \"owner\": owner,\n",
    "                        \"tokens\": tokens,\n",
    "                        \"buy7d\": buy7d,\n",
    "                        \"sell7d\": sell7d,\n",
    "                        \"date\": today_str\n",
    "                    }\n",
    "                    topholders_db.insert_one(entry)\n",
    "                    new_data_inserted = True\n",
    "            else:\n",
    "                print(f\"Unexpected data format for collection {coll_name}.\")\n",
    "\n",
    "    if new_data_inserted:\n",
    "        print(f\"New data inserted for {coll_name}!\")\n",
    "    else:\n",
    "        print(f\"No new data for {coll_name} today.\")\n",
    "\n"
   ]
  },
  {
   "cell_type": "markdown",
   "metadata": {},
   "source": [
    "**Fetching Historical top holder's data**"
   ]
  },
  {
   "cell_type": "code",
   "execution_count": 24,
   "metadata": {},
   "outputs": [],
   "source": [
    "holders_data_list = list(db.holders_data.find({}))  \n",
    "holders_df= pd.DataFrame(holders_data_list)"
   ]
  },
  {
   "cell_type": "markdown",
   "metadata": {},
   "source": [
    "---\n",
    "\n",
    "## PART 4: Current Trades\n",
    "\n",
    "---"
   ]
  },
  {
   "cell_type": "markdown",
   "metadata": {},
   "source": [
    "This section helps us identify the collection(s) of interest for today. We look at currently highly overbought collections to assess what to buy. "
   ]
  },
  {
   "cell_type": "markdown",
   "metadata": {},
   "source": [
    "### 4.1  All purchases (last 24h)"
   ]
  },
  {
   "cell_type": "code",
   "execution_count": 65,
   "metadata": {},
   "outputs": [
    {
     "name": "stdout",
     "output_type": "stream",
     "text": [
      "There have been 18 active top Solana traders purchasing NFTs today, trading 44 collections for a total of 205 purchases.\n"
     ]
    }
   ],
   "source": [
    "n_traders = purchases_24h['acheteur'].nunique()\n",
    "n_collections = purchases_24h['collection'].nunique()\n",
    "n_purchases = len(purchases_24h)\n",
    "\n",
    "print(f'There have been {n_traders} active top Solana traders purchasing NFTs today, trading {n_collections} collections for a total of {n_purchases} purchases.')\n"
   ]
  },
  {
   "cell_type": "code",
   "execution_count": 69,
   "metadata": {},
   "outputs": [
    {
     "data": {
      "text/html": [
       "<div>\n",
       "<style scoped>\n",
       "    .dataframe tbody tr th:only-of-type {\n",
       "        vertical-align: middle;\n",
       "    }\n",
       "\n",
       "    .dataframe tbody tr th {\n",
       "        vertical-align: top;\n",
       "    }\n",
       "\n",
       "    .dataframe thead th {\n",
       "        text-align: right;\n",
       "    }\n",
       "</style>\n",
       "<table border=\"1\" class=\"dataframe\">\n",
       "  <thead>\n",
       "    <tr style=\"text-align: right;\">\n",
       "      <th></th>\n",
       "      <th>collection</th>\n",
       "      <th>num_purchases</th>\n",
       "      <th>unique_buyers</th>\n",
       "      <th>avg_price</th>\n",
       "      <th>min_price</th>\n",
       "      <th>max_price</th>\n",
       "      <th>median_price</th>\n",
       "      <th>volume</th>\n",
       "    </tr>\n",
       "  </thead>\n",
       "  <tbody>\n",
       "    <tr>\n",
       "      <th>6</th>\n",
       "      <td>clear_collectibles</td>\n",
       "      <td>20</td>\n",
       "      <td>5</td>\n",
       "      <td>2.565453</td>\n",
       "      <td>1.605556</td>\n",
       "      <td>6.843804</td>\n",
       "      <td>2.001707</td>\n",
       "      <td>51.309062</td>\n",
       "    </tr>\n",
       "    <tr>\n",
       "      <th>29</th>\n",
       "      <td>p2_farmers_gs</td>\n",
       "      <td>59</td>\n",
       "      <td>1</td>\n",
       "      <td>0.472487</td>\n",
       "      <td>0.438072</td>\n",
       "      <td>0.507126</td>\n",
       "      <td>0.471585</td>\n",
       "      <td>27.876727</td>\n",
       "    </tr>\n",
       "    <tr>\n",
       "      <th>17</th>\n",
       "      <td>gates_of_brohalla</td>\n",
       "      <td>2</td>\n",
       "      <td>2</td>\n",
       "      <td>11.257504</td>\n",
       "      <td>5.089560</td>\n",
       "      <td>17.425448</td>\n",
       "      <td>11.257504</td>\n",
       "      <td>22.515008</td>\n",
       "    </tr>\n",
       "    <tr>\n",
       "      <th>10</th>\n",
       "      <td>degenfatcats</td>\n",
       "      <td>2</td>\n",
       "      <td>1</td>\n",
       "      <td>6.688140</td>\n",
       "      <td>6.603480</td>\n",
       "      <td>6.772800</td>\n",
       "      <td>6.688140</td>\n",
       "      <td>13.376280</td>\n",
       "    </tr>\n",
       "    <tr>\n",
       "      <th>2</th>\n",
       "      <td>bored_ape_solana_club</td>\n",
       "      <td>1</td>\n",
       "      <td>1</td>\n",
       "      <td>11.488448</td>\n",
       "      <td>11.488448</td>\n",
       "      <td>11.488448</td>\n",
       "      <td>11.488448</td>\n",
       "      <td>11.488448</td>\n",
       "    </tr>\n",
       "    <tr>\n",
       "      <th>7</th>\n",
       "      <td>cranimus</td>\n",
       "      <td>44</td>\n",
       "      <td>3</td>\n",
       "      <td>0.234182</td>\n",
       "      <td>0.159758</td>\n",
       "      <td>0.594760</td>\n",
       "      <td>0.171400</td>\n",
       "      <td>10.303997</td>\n",
       "    </tr>\n",
       "    <tr>\n",
       "      <th>4</th>\n",
       "      <td>bullyz_crew</td>\n",
       "      <td>2</td>\n",
       "      <td>2</td>\n",
       "      <td>3.909300</td>\n",
       "      <td>3.904320</td>\n",
       "      <td>3.914280</td>\n",
       "      <td>3.909300</td>\n",
       "      <td>7.818600</td>\n",
       "    </tr>\n",
       "    <tr>\n",
       "      <th>8</th>\n",
       "      <td>crashfaces</td>\n",
       "      <td>2</td>\n",
       "      <td>2</td>\n",
       "      <td>3.700140</td>\n",
       "      <td>3.685200</td>\n",
       "      <td>3.715080</td>\n",
       "      <td>3.700140</td>\n",
       "      <td>7.400280</td>\n",
       "    </tr>\n",
       "    <tr>\n",
       "      <th>28</th>\n",
       "      <td>nekkro</td>\n",
       "      <td>2</td>\n",
       "      <td>1</td>\n",
       "      <td>3.321660</td>\n",
       "      <td>3.266880</td>\n",
       "      <td>3.376440</td>\n",
       "      <td>3.321660</td>\n",
       "      <td>6.643320</td>\n",
       "    </tr>\n",
       "    <tr>\n",
       "      <th>31</th>\n",
       "      <td>puffsterz</td>\n",
       "      <td>2</td>\n",
       "      <td>2</td>\n",
       "      <td>3.156324</td>\n",
       "      <td>3.155328</td>\n",
       "      <td>3.157320</td>\n",
       "      <td>3.156324</td>\n",
       "      <td>6.312648</td>\n",
       "    </tr>\n",
       "  </tbody>\n",
       "</table>\n",
       "</div>"
      ],
      "text/plain": [
       "               collection  num_purchases  unique_buyers  avg_price  min_price  \\\n",
       "6      clear_collectibles             20              5   2.565453   1.605556   \n",
       "29          p2_farmers_gs             59              1   0.472487   0.438072   \n",
       "17      gates_of_brohalla              2              2  11.257504   5.089560   \n",
       "10           degenfatcats              2              1   6.688140   6.603480   \n",
       "2   bored_ape_solana_club              1              1  11.488448  11.488448   \n",
       "7                cranimus             44              3   0.234182   0.159758   \n",
       "4             bullyz_crew              2              2   3.909300   3.904320   \n",
       "8              crashfaces              2              2   3.700140   3.685200   \n",
       "28                 nekkro              2              1   3.321660   3.266880   \n",
       "31              puffsterz              2              2   3.156324   3.155328   \n",
       "\n",
       "    max_price  median_price     volume  \n",
       "6    6.843804      2.001707  51.309062  \n",
       "29   0.507126      0.471585  27.876727  \n",
       "17  17.425448     11.257504  22.515008  \n",
       "10   6.772800      6.688140  13.376280  \n",
       "2   11.488448     11.488448  11.488448  \n",
       "7    0.594760      0.171400  10.303997  \n",
       "4    3.914280      3.909300   7.818600  \n",
       "8    3.715080      3.700140   7.400280  \n",
       "28   3.376440      3.321660   6.643320  \n",
       "31   3.157320      3.156324   6.312648  "
      ]
     },
     "execution_count": 69,
     "metadata": {},
     "output_type": "execute_result"
    }
   ],
   "source": [
    "sorted_purchases_24h.head(10)"
   ]
  },
  {
   "cell_type": "markdown",
   "metadata": {},
   "source": [
    "### 4.2 All sales (last 24h)"
   ]
  },
  {
   "cell_type": "code",
   "execution_count": 68,
   "metadata": {},
   "outputs": [
    {
     "data": {
      "text/html": [
       "<div>\n",
       "<style scoped>\n",
       "    .dataframe tbody tr th:only-of-type {\n",
       "        vertical-align: middle;\n",
       "    }\n",
       "\n",
       "    .dataframe tbody tr th {\n",
       "        vertical-align: top;\n",
       "    }\n",
       "\n",
       "    .dataframe thead th {\n",
       "        text-align: right;\n",
       "    }\n",
       "</style>\n",
       "<table border=\"1\" class=\"dataframe\">\n",
       "  <thead>\n",
       "    <tr style=\"text-align: right;\">\n",
       "      <th></th>\n",
       "      <th>collection</th>\n",
       "      <th>num_sales</th>\n",
       "      <th>avg_roi</th>\n",
       "      <th>avg_price</th>\n",
       "      <th>min_price</th>\n",
       "      <th>max_price</th>\n",
       "      <th>median_price</th>\n",
       "      <th>volume</th>\n",
       "    </tr>\n",
       "  </thead>\n",
       "  <tbody>\n",
       "    <tr>\n",
       "      <th>5</th>\n",
       "      <td>clear_collectibles</td>\n",
       "      <td>53</td>\n",
       "      <td>0.666774</td>\n",
       "      <td>3.278470</td>\n",
       "      <td>1.840736</td>\n",
       "      <td>8.561448</td>\n",
       "      <td>3.177134</td>\n",
       "      <td>173.758911</td>\n",
       "    </tr>\n",
       "    <tr>\n",
       "      <th>0</th>\n",
       "      <td>assetdash_vanta</td>\n",
       "      <td>9</td>\n",
       "      <td>0.410558</td>\n",
       "      <td>13.706334</td>\n",
       "      <td>13.621244</td>\n",
       "      <td>13.813073</td>\n",
       "      <td>13.703123</td>\n",
       "      <td>123.357004</td>\n",
       "    </tr>\n",
       "    <tr>\n",
       "      <th>7</th>\n",
       "      <td>cranimus</td>\n",
       "      <td>57</td>\n",
       "      <td>0.649536</td>\n",
       "      <td>0.410392</td>\n",
       "      <td>0.319576</td>\n",
       "      <td>0.637244</td>\n",
       "      <td>0.404248</td>\n",
       "      <td>23.392343</td>\n",
       "    </tr>\n",
       "    <tr>\n",
       "      <th>9</th>\n",
       "      <td>cryptotitans</td>\n",
       "      <td>2</td>\n",
       "      <td>0.289921</td>\n",
       "      <td>6.513098</td>\n",
       "      <td>6.512084</td>\n",
       "      <td>6.514112</td>\n",
       "      <td>6.513098</td>\n",
       "      <td>13.026197</td>\n",
       "    </tr>\n",
       "    <tr>\n",
       "      <th>12</th>\n",
       "      <td>dopegrowerssociety</td>\n",
       "      <td>2</td>\n",
       "      <td>2.427473</td>\n",
       "      <td>5.827680</td>\n",
       "      <td>5.242316</td>\n",
       "      <td>6.413044</td>\n",
       "      <td>5.827680</td>\n",
       "      <td>11.655361</td>\n",
       "    </tr>\n",
       "  </tbody>\n",
       "</table>\n",
       "</div>"
      ],
      "text/plain": [
       "            collection  num_sales   avg_roi  avg_price  min_price  max_price  \\\n",
       "5   clear_collectibles         53  0.666774   3.278470   1.840736   8.561448   \n",
       "0      assetdash_vanta          9  0.410558  13.706334  13.621244  13.813073   \n",
       "7             cranimus         57  0.649536   0.410392   0.319576   0.637244   \n",
       "9         cryptotitans          2  0.289921   6.513098   6.512084   6.514112   \n",
       "12  dopegrowerssociety          2  2.427473   5.827680   5.242316   6.413044   \n",
       "\n",
       "    median_price      volume  \n",
       "5       3.177134  173.758911  \n",
       "0      13.703123  123.357004  \n",
       "7       0.404248   23.392343  \n",
       "9       6.513098   13.026197  \n",
       "12      5.827680   11.655361  "
      ]
     },
     "execution_count": 68,
     "metadata": {},
     "output_type": "execute_result"
    }
   ],
   "source": [
    "sorted_sales_24h.head(5)"
   ]
  },
  {
   "cell_type": "markdown",
   "metadata": {},
   "source": [
    "#### 4.3 Sales vs Purchases in collections of interest (24H)"
   ]
  },
  {
   "cell_type": "markdown",
   "metadata": {},
   "source": [
    "In the graph below we look at trades on collection for which we have data in our historical db but also new collection that are not in the 7 days top traded. These are plotted in different colours for two main reasons. First, it allows us to identify newly trending collections. Additionally, it helps us identify whether we have additional information before selecting today's collection of interest."
   ]
  },
  {
   "cell_type": "code",
   "execution_count": 70,
   "metadata": {},
   "outputs": [
    {
     "data": {
      "image/png": "[encoded data removed]",
      "text/plain": [
       "<Figure size 864x432 with 1 Axes>"
      ]
     },
     "metadata": {
      "needs_background": "light"
     },
     "output_type": "display_data"
    }
   ],
   "source": [
    "# Define a list of collections to keep\n",
    "collections_to_keep_7d = sorted_purchases_7d['collection'].head(5).tolist()\n",
    "collections_to_keep_24h = sorted_purchases_24h['collection'].head(10).tolist()\n",
    "\n",
    "\n",
    "# Combine both lists while ensuring uniqueness\n",
    "combined_collections_to_keep = list(set(collections_to_keep_7d + collections_to_keep_24h))\n",
    "\n",
    "# Collections exclusive to the 24-hour list (not present in the 7-day list)\n",
    "collections_only_in_24h = list(set(collections_to_keep_24h) - set(collections_to_keep_7d))\n",
    "\n",
    "# Group and count purchases and sales\n",
    "purchase_counts = purchases_24h['collection'].value_counts()\n",
    "sale_counts = sales_24h['collection'].value_counts()\n",
    "\n",
    "# Create colors list based on criteria\n",
    "colors_purchases = ['blue' if col in collections_to_keep_7d else 'lightblue' for col in combined_collections_to_keep]\n",
    "colors_sales = ['orange' if col in collections_to_keep_7d else 'moccasin' for col in combined_collections_to_keep]\n",
    "\n",
    "# Plotting\n",
    "fig, ax = plt.subplots(figsize=(12, 6))\n",
    "index = np.arange(len(combined_collections_to_keep))\n",
    "\n",
    "bar1 = ax.bar(index, \n",
    "              purchase_counts.reindex(combined_collections_to_keep).fillna(0), \n",
    "              bar_width, \n",
    "              color=colors_purchases, \n",
    "              label='Purchases', \n",
    "              align='center')\n",
    "\n",
    "bar2 = ax.bar(index + bar_width, \n",
    "              sale_counts.reindex(combined_collections_to_keep).fillna(0), \n",
    "              bar_width, \n",
    "              color=colors_sales, \n",
    "              label='Sales', \n",
    "              align='center')\n",
    "\n",
    "# Labeling and aesthetics\n",
    "ax.set_xlabel('Collections')\n",
    "ax.set_ylabel('Number of NFTs')\n",
    "ax.set_title('Number of NFTs Sold vs Bought in the Last 24 Hours by Top Traders')\n",
    "ax.set_xticks(index + bar_width / 2)\n",
    "ax.set_xticklabels(combined_collections_to_keep, rotation=45, ha='right')\n",
    "ax.legend()\n",
    "\n",
    "plt.tight_layout()\n",
    "plt.show()\n",
    "\n",
    "\n"
   ]
  },
  {
   "cell_type": "markdown",
   "metadata": {},
   "source": [
    "--- \n",
    "\n",
    "# PART 5 : ANALYZING TODAY'S COLLECTION OF INTEREST\n",
    "\n",
    "---"
   ]
  },
  {
   "cell_type": "markdown",
   "metadata": {},
   "source": [
    "Part 4 has helped us identify which collection to trade today. In this section we dive deeper into this collection before taking any additional decisions. We look at the summary statistics of buy prices by our traders of interests. Next we look at very short term data : are they still buying or is it already sell time? \n",
    "\n",
    "We also hereby also look at historical data if available : are the collections whales accumulating or rather selling ? is the floor price moving up? etc.\n",
    "\n",
    "Finally, we collect data from twitter : we look at the latest tweets made by the official account of the collection but also perform sentiment analysis on all recents tweets about it. This makes us aware of any important announcements and community feeling about the collection.\n",
    "\n"
   ]
  },
  {
   "cell_type": "markdown",
   "metadata": {},
   "source": [
    "### 5.1 Collection identification"
   ]
  },
  {
   "cell_type": "code",
   "execution_count": 82,
   "metadata": {},
   "outputs": [],
   "source": [
    "today_collection = 'clear_collectibles'"
   ]
  },
  {
   "cell_type": "markdown",
   "metadata": {},
   "source": [
    "### 5.2 Top traders activity (last 6h)"
   ]
  },
  {
   "cell_type": "markdown",
   "metadata": {},
   "source": [
    "#### 5.2.1 Purchases"
   ]
  },
  {
   "cell_type": "code",
   "execution_count": 83,
   "metadata": {},
   "outputs": [
    {
     "data": {
      "text/html": [
       "<div>\n",
       "<style scoped>\n",
       "    .dataframe tbody tr th:only-of-type {\n",
       "        vertical-align: middle;\n",
       "    }\n",
       "\n",
       "    .dataframe tbody tr th {\n",
       "        vertical-align: top;\n",
       "    }\n",
       "\n",
       "    .dataframe thead th {\n",
       "        text-align: right;\n",
       "    }\n",
       "</style>\n",
       "<table border=\"1\" class=\"dataframe\">\n",
       "  <thead>\n",
       "    <tr style=\"text-align: right;\">\n",
       "      <th></th>\n",
       "      <th>acheteur</th>\n",
       "      <th>nft</th>\n",
       "      <th>date_achat</th>\n",
       "      <th>prix_achat</th>\n",
       "      <th>collection</th>\n",
       "    </tr>\n",
       "  </thead>\n",
       "  <tbody>\n",
       "    <tr>\n",
       "      <th>16</th>\n",
       "      <td>BiKcVb6t6YDZczYjWLjXKwdgAUecdQrp1EJXAfRmu3VR</td>\n",
       "      <td>7tgrYbnBjQyyEnrsA9RGpnbX8U7U4MLzqvSJFWjCGRFx</td>\n",
       "      <td>2023-09-27T19:39:49.000Z</td>\n",
       "      <td>5.827498</td>\n",
       "      <td>clear_collectibles</td>\n",
       "    </tr>\n",
       "    <tr>\n",
       "      <th>17</th>\n",
       "      <td>BiKcVb6t6YDZczYjWLjXKwdgAUecdQrp1EJXAfRmu3VR</td>\n",
       "      <td>Gr9iRgrNqSut1ruDGdnqWpeXiDHLiPBsr9Vz2NTNcuXA</td>\n",
       "      <td>2023-09-27T19:40:43.000Z</td>\n",
       "      <td>6.843804</td>\n",
       "      <td>clear_collectibles</td>\n",
       "    </tr>\n",
       "    <tr>\n",
       "      <th>18</th>\n",
       "      <td>BiKcVb6t6YDZczYjWLjXKwdgAUecdQrp1EJXAfRmu3VR</td>\n",
       "      <td>Dn4TsMQsQgVfp9EjUjjQSVhAYYQ21DBk1B1GWhvLmwM</td>\n",
       "      <td>2023-09-27T19:42:46.000Z</td>\n",
       "      <td>5.079198</td>\n",
       "      <td>clear_collectibles</td>\n",
       "    </tr>\n",
       "    <tr>\n",
       "      <th>41</th>\n",
       "      <td>AyfkJWUcVP5QionXtc9DTS6XVSgJZCund63xEAqN8744</td>\n",
       "      <td>9A6yWLLyW8qMSNfdHRgCYPYm7hvvr7D2sdK696vM4tY4</td>\n",
       "      <td>2023-09-28T03:38:49.000Z</td>\n",
       "      <td>3.727198</td>\n",
       "      <td>clear_collectibles</td>\n",
       "    </tr>\n",
       "    <tr>\n",
       "      <th>45</th>\n",
       "      <td>5GWUdSev42nKXXs49tKwcoZyozSwDoYDJTLSegV5NzFC</td>\n",
       "      <td>7rTwSXhMr1VanGnaePEAURSiuP7JZGDRztAJEHEy3kJk</td>\n",
       "      <td>2023-09-27T19:07:39.000Z</td>\n",
       "      <td>2.075916</td>\n",
       "      <td>clear_collectibles</td>\n",
       "    </tr>\n",
       "  </tbody>\n",
       "</table>\n",
       "</div>"
      ],
      "text/plain": [
       "                                        acheteur  \\\n",
       "16  BiKcVb6t6YDZczYjWLjXKwdgAUecdQrp1EJXAfRmu3VR   \n",
       "17  BiKcVb6t6YDZczYjWLjXKwdgAUecdQrp1EJXAfRmu3VR   \n",
       "18  BiKcVb6t6YDZczYjWLjXKwdgAUecdQrp1EJXAfRmu3VR   \n",
       "41  AyfkJWUcVP5QionXtc9DTS6XVSgJZCund63xEAqN8744   \n",
       "45  5GWUdSev42nKXXs49tKwcoZyozSwDoYDJTLSegV5NzFC   \n",
       "\n",
       "                                             nft                date_achat  \\\n",
       "16  7tgrYbnBjQyyEnrsA9RGpnbX8U7U4MLzqvSJFWjCGRFx  2023-09-27T19:39:49.000Z   \n",
       "17  Gr9iRgrNqSut1ruDGdnqWpeXiDHLiPBsr9Vz2NTNcuXA  2023-09-27T19:40:43.000Z   \n",
       "18   Dn4TsMQsQgVfp9EjUjjQSVhAYYQ21DBk1B1GWhvLmwM  2023-09-27T19:42:46.000Z   \n",
       "41  9A6yWLLyW8qMSNfdHRgCYPYm7hvvr7D2sdK696vM4tY4  2023-09-28T03:38:49.000Z   \n",
       "45  7rTwSXhMr1VanGnaePEAURSiuP7JZGDRztAJEHEy3kJk  2023-09-27T19:07:39.000Z   \n",
       "\n",
       "    prix_achat          collection  \n",
       "16    5.827498  clear_collectibles  \n",
       "17    6.843804  clear_collectibles  \n",
       "18    5.079198  clear_collectibles  \n",
       "41    3.727198  clear_collectibles  \n",
       "45    2.075916  clear_collectibles  "
      ]
     },
     "execution_count": 83,
     "metadata": {},
     "output_type": "execute_result"
    }
   ],
   "source": [
    "collection_purchases_6h = purchases_6h[purchases_6h['collection'] == today_collection]\n",
    "collection_purchases_6h.head()"
   ]
  },
  {
   "cell_type": "markdown",
   "metadata": {},
   "source": [
    "#### 5.2.2 Sales"
   ]
  },
  {
   "cell_type": "code",
   "execution_count": 84,
   "metadata": {},
   "outputs": [
    {
     "data": {
      "text/html": [
       "<div>\n",
       "<style scoped>\n",
       "    .dataframe tbody tr th:only-of-type {\n",
       "        vertical-align: middle;\n",
       "    }\n",
       "\n",
       "    .dataframe tbody tr th {\n",
       "        vertical-align: top;\n",
       "    }\n",
       "\n",
       "    .dataframe thead th {\n",
       "        text-align: right;\n",
       "    }\n",
       "</style>\n",
       "<table border=\"1\" class=\"dataframe\">\n",
       "  <thead>\n",
       "    <tr style=\"text-align: right;\">\n",
       "      <th></th>\n",
       "      <th>vendeur</th>\n",
       "      <th>acheteur</th>\n",
       "      <th>nft</th>\n",
       "      <th>date_achat</th>\n",
       "      <th>date_vente</th>\n",
       "      <th>prix_achat</th>\n",
       "      <th>prix_vente</th>\n",
       "      <th>profit</th>\n",
       "      <th>roi</th>\n",
       "      <th>collection</th>\n",
       "    </tr>\n",
       "  </thead>\n",
       "  <tbody>\n",
       "    <tr>\n",
       "      <th>1</th>\n",
       "      <td>F61wgdK7SgQEgZp7XJMtiUiqYuvcJ5P4PMCrzfpen3PX</td>\n",
       "      <td>6zR8YqvScoxY6Xe14pimoHUuanoWon75fctDS1Bs1MCN</td>\n",
       "      <td>9mkzmm7JuGmtW8XTtGYzoQdwtPRPZk4vju7qXiESeU8x</td>\n",
       "      <td>2023-09-27T19:01:34.000Z</td>\n",
       "      <td>2023-09-28T15:34:15.000Z</td>\n",
       "      <td>2.193506</td>\n",
       "      <td>5.334327</td>\n",
       "      <td>3.140821</td>\n",
       "      <td>1.431872</td>\n",
       "      <td>clear_collectibles</td>\n",
       "    </tr>\n",
       "    <tr>\n",
       "      <th>2</th>\n",
       "      <td>HU5QwHHn4FhgtKYuCCMTsvKqkHspPRRYXvyjMtQ4kaBq</td>\n",
       "      <td>Hn5Vi2Ler5nJPN1XZfA6bq9iGkUQU9brfjtVRvVzUuCU</td>\n",
       "      <td>HoPeo9bSnMcUFcU4eHUtAD9wvF95Yc2Yp72CKpo1YbiF</td>\n",
       "      <td>2023-09-27T03:41:13.000Z</td>\n",
       "      <td>2023-09-28T14:03:38.000Z</td>\n",
       "      <td>1.606448</td>\n",
       "      <td>4.278056</td>\n",
       "      <td>2.671609</td>\n",
       "      <td>1.663054</td>\n",
       "      <td>clear_collectibles</td>\n",
       "    </tr>\n",
       "    <tr>\n",
       "      <th>5</th>\n",
       "      <td>4qf49iU65pFYWTx3hCA7vikRRv5L3pg6im49yHXjLoQN</td>\n",
       "      <td>ahbDRH6pRRJZM6M2rfPD2SMfkJfQYueCfHd8UNurTcA</td>\n",
       "      <td>HpWCSuWtj8h62gdeLGbvWZW79Q13jigtsHX8DdNTV8kV</td>\n",
       "      <td>2023-09-25T17:13:28.000Z</td>\n",
       "      <td>2023-09-28T07:53:30.000Z</td>\n",
       "      <td>2.247104</td>\n",
       "      <td>4.281448</td>\n",
       "      <td>2.034343</td>\n",
       "      <td>0.905318</td>\n",
       "      <td>clear_collectibles</td>\n",
       "    </tr>\n",
       "    <tr>\n",
       "      <th>6</th>\n",
       "      <td>4qf49iU65pFYWTx3hCA7vikRRv5L3pg6im49yHXjLoQN</td>\n",
       "      <td>GrFAA1F6eA2wz4B3NQ2p2g4m2aLkzQCGDWi8dsLxruhJ</td>\n",
       "      <td>2BrDy9jiYfC3HU6NHvNJbUwuYduXi2bmhjkATbkPcotT</td>\n",
       "      <td>2023-09-25T17:13:11.000Z</td>\n",
       "      <td>2023-09-28T06:34:22.000Z</td>\n",
       "      <td>2.247104</td>\n",
       "      <td>4.281448</td>\n",
       "      <td>2.034343</td>\n",
       "      <td>0.905318</td>\n",
       "      <td>clear_collectibles</td>\n",
       "    </tr>\n",
       "    <tr>\n",
       "      <th>7</th>\n",
       "      <td>5GWUdSev42nKXXs49tKwcoZyozSwDoYDJTLSegV5NzFC</td>\n",
       "      <td>G7WZo5eJPwbJWsWDp5YVpt3BJwcBnx3m13tLj82daW37</td>\n",
       "      <td>BdFn9LKWDpt9dyFscC3YJXqntAvwd9YQz178q5vShHjU</td>\n",
       "      <td>2023-09-25T17:31:58.000Z</td>\n",
       "      <td>2023-09-28T14:38:13.000Z</td>\n",
       "      <td>1.625446</td>\n",
       "      <td>3.604586</td>\n",
       "      <td>1.979140</td>\n",
       "      <td>1.217598</td>\n",
       "      <td>clear_collectibles</td>\n",
       "    </tr>\n",
       "  </tbody>\n",
       "</table>\n",
       "</div>"
      ],
      "text/plain": [
       "                                        vendeur  \\\n",
       "1  F61wgdK7SgQEgZp7XJMtiUiqYuvcJ5P4PMCrzfpen3PX   \n",
       "2  HU5QwHHn4FhgtKYuCCMTsvKqkHspPRRYXvyjMtQ4kaBq   \n",
       "5  4qf49iU65pFYWTx3hCA7vikRRv5L3pg6im49yHXjLoQN   \n",
       "6  4qf49iU65pFYWTx3hCA7vikRRv5L3pg6im49yHXjLoQN   \n",
       "7  5GWUdSev42nKXXs49tKwcoZyozSwDoYDJTLSegV5NzFC   \n",
       "\n",
       "                                       acheteur  \\\n",
       "1  6zR8YqvScoxY6Xe14pimoHUuanoWon75fctDS1Bs1MCN   \n",
       "2  Hn5Vi2Ler5nJPN1XZfA6bq9iGkUQU9brfjtVRvVzUuCU   \n",
       "5   ahbDRH6pRRJZM6M2rfPD2SMfkJfQYueCfHd8UNurTcA   \n",
       "6  GrFAA1F6eA2wz4B3NQ2p2g4m2aLkzQCGDWi8dsLxruhJ   \n",
       "7  G7WZo5eJPwbJWsWDp5YVpt3BJwcBnx3m13tLj82daW37   \n",
       "\n",
       "                                            nft                date_achat  \\\n",
       "1  9mkzmm7JuGmtW8XTtGYzoQdwtPRPZk4vju7qXiESeU8x  2023-09-27T19:01:34.000Z   \n",
       "2  HoPeo9bSnMcUFcU4eHUtAD9wvF95Yc2Yp72CKpo1YbiF  2023-09-27T03:41:13.000Z   \n",
       "5  HpWCSuWtj8h62gdeLGbvWZW79Q13jigtsHX8DdNTV8kV  2023-09-25T17:13:28.000Z   \n",
       "6  2BrDy9jiYfC3HU6NHvNJbUwuYduXi2bmhjkATbkPcotT  2023-09-25T17:13:11.000Z   \n",
       "7  BdFn9LKWDpt9dyFscC3YJXqntAvwd9YQz178q5vShHjU  2023-09-25T17:31:58.000Z   \n",
       "\n",
       "                 date_vente  prix_achat  prix_vente    profit       roi  \\\n",
       "1  2023-09-28T15:34:15.000Z    2.193506    5.334327  3.140821  1.431872   \n",
       "2  2023-09-28T14:03:38.000Z    1.606448    4.278056  2.671609  1.663054   \n",
       "5  2023-09-28T07:53:30.000Z    2.247104    4.281448  2.034343  0.905318   \n",
       "6  2023-09-28T06:34:22.000Z    2.247104    4.281448  2.034343  0.905318   \n",
       "7  2023-09-28T14:38:13.000Z    1.625446    3.604586  1.979140  1.217598   \n",
       "\n",
       "           collection  \n",
       "1  clear_collectibles  \n",
       "2  clear_collectibles  \n",
       "5  clear_collectibles  \n",
       "6  clear_collectibles  \n",
       "7  clear_collectibles  "
      ]
     },
     "execution_count": 84,
     "metadata": {},
     "output_type": "execute_result"
    }
   ],
   "source": [
    "collection_sales_6h = sales_6h[sales_6h['collection'] == today_collection]\n",
    "collection_sales_6h.head()"
   ]
  },
  {
   "cell_type": "markdown",
   "metadata": {},
   "source": [
    "#### 5.2.1 Purchases vs Sales"
   ]
  },
  {
   "cell_type": "code",
   "execution_count": 86,
   "metadata": {},
   "outputs": [
    {
     "data": {
      "image/png": "[encoded data removed]",
      "text/plain": [
       "<Figure size 432x288 with 1 Axes>"
      ]
     },
     "metadata": {
      "needs_background": "light"
     },
     "output_type": "display_data"
    }
   ],
   "source": [
    "# Get the number of rows for each filtered dataframe\n",
    "num_purchases = len(collection_purchases_6h)\n",
    "num_sales = len(collection_sales_6h)\n",
    "\n",
    "# Bar plot\n",
    "labels = ['Purchases', 'Sales']\n",
    "values = [num_purchases, num_sales]\n",
    "\n",
    "plt.bar(labels, values, color=['blue', 'orange'])\n",
    "plt.xlabel('Type')\n",
    "plt.ylabel('Number of Rows')\n",
    "plt.title('Comparison of Rows for Purchases and Sales in Today\\'s Collection')\n",
    "plt.show()\n",
    "\n"
   ]
  },
  {
   "cell_type": "markdown",
   "metadata": {},
   "source": [
    "### 5.3 Top traders activity (1h)"
   ]
  },
  {
   "cell_type": "code",
   "execution_count": 87,
   "metadata": {},
   "outputs": [
    {
     "data": {
      "text/html": [
       "<div>\n",
       "<style scoped>\n",
       "    .dataframe tbody tr th:only-of-type {\n",
       "        vertical-align: middle;\n",
       "    }\n",
       "\n",
       "    .dataframe tbody tr th {\n",
       "        vertical-align: top;\n",
       "    }\n",
       "\n",
       "    .dataframe thead th {\n",
       "        text-align: right;\n",
       "    }\n",
       "</style>\n",
       "<table border=\"1\" class=\"dataframe\">\n",
       "  <thead>\n",
       "    <tr style=\"text-align: right;\">\n",
       "      <th></th>\n",
       "      <th>acheteur</th>\n",
       "      <th>nft</th>\n",
       "      <th>date_achat</th>\n",
       "      <th>prix_achat</th>\n",
       "      <th>collection</th>\n",
       "    </tr>\n",
       "  </thead>\n",
       "  <tbody>\n",
       "    <tr>\n",
       "      <th>27</th>\n",
       "      <td>AyfkJWUcVP5QionXtc9DTS6XVSgJZCund63xEAqN8744</td>\n",
       "      <td>9A6yWLLyW8qMSNfdHRgCYPYm7hvvr7D2sdK696vM4tY4</td>\n",
       "      <td>2023-09-28T03:38:49.000Z</td>\n",
       "      <td>3.727198</td>\n",
       "      <td>clear_collectibles</td>\n",
       "    </tr>\n",
       "  </tbody>\n",
       "</table>\n",
       "</div>"
      ],
      "text/plain": [
       "                                        acheteur  \\\n",
       "27  AyfkJWUcVP5QionXtc9DTS6XVSgJZCund63xEAqN8744   \n",
       "\n",
       "                                             nft                date_achat  \\\n",
       "27  9A6yWLLyW8qMSNfdHRgCYPYm7hvvr7D2sdK696vM4tY4  2023-09-28T03:38:49.000Z   \n",
       "\n",
       "    prix_achat          collection  \n",
       "27    3.727198  clear_collectibles  "
      ]
     },
     "execution_count": 87,
     "metadata": {},
     "output_type": "execute_result"
    }
   ],
   "source": [
    "collection_purchases_1h = purchases_1h[purchases_1h['collection'] == today_collection]\n",
    "collection_purchases_1h.head()"
   ]
  },
  {
   "cell_type": "code",
   "execution_count": 88,
   "metadata": {},
   "outputs": [
    {
     "data": {
      "text/html": [
       "<div>\n",
       "<style scoped>\n",
       "    .dataframe tbody tr th:only-of-type {\n",
       "        vertical-align: middle;\n",
       "    }\n",
       "\n",
       "    .dataframe tbody tr th {\n",
       "        vertical-align: top;\n",
       "    }\n",
       "\n",
       "    .dataframe thead th {\n",
       "        text-align: right;\n",
       "    }\n",
       "</style>\n",
       "<table border=\"1\" class=\"dataframe\">\n",
       "  <thead>\n",
       "    <tr style=\"text-align: right;\">\n",
       "      <th></th>\n",
       "      <th>vendeur</th>\n",
       "      <th>acheteur</th>\n",
       "      <th>nft</th>\n",
       "      <th>date_achat</th>\n",
       "      <th>date_vente</th>\n",
       "      <th>prix_achat</th>\n",
       "      <th>prix_vente</th>\n",
       "      <th>profit</th>\n",
       "      <th>roi</th>\n",
       "      <th>collection</th>\n",
       "    </tr>\n",
       "  </thead>\n",
       "  <tbody>\n",
       "    <tr>\n",
       "      <th>1</th>\n",
       "      <td>F61wgdK7SgQEgZp7XJMtiUiqYuvcJ5P4PMCrzfpen3PX</td>\n",
       "      <td>6zR8YqvScoxY6Xe14pimoHUuanoWon75fctDS1Bs1MCN</td>\n",
       "      <td>9mkzmm7JuGmtW8XTtGYzoQdwtPRPZk4vju7qXiESeU8x</td>\n",
       "      <td>2023-09-27T19:01:34.000Z</td>\n",
       "      <td>2023-09-28T15:34:15.000Z</td>\n",
       "      <td>2.193506</td>\n",
       "      <td>5.334327</td>\n",
       "      <td>3.140821</td>\n",
       "      <td>1.431872</td>\n",
       "      <td>clear_collectibles</td>\n",
       "    </tr>\n",
       "    <tr>\n",
       "      <th>2</th>\n",
       "      <td>HU5QwHHn4FhgtKYuCCMTsvKqkHspPRRYXvyjMtQ4kaBq</td>\n",
       "      <td>Hn5Vi2Ler5nJPN1XZfA6bq9iGkUQU9brfjtVRvVzUuCU</td>\n",
       "      <td>HoPeo9bSnMcUFcU4eHUtAD9wvF95Yc2Yp72CKpo1YbiF</td>\n",
       "      <td>2023-09-27T03:41:13.000Z</td>\n",
       "      <td>2023-09-28T14:03:38.000Z</td>\n",
       "      <td>1.606448</td>\n",
       "      <td>4.278056</td>\n",
       "      <td>2.671609</td>\n",
       "      <td>1.663054</td>\n",
       "      <td>clear_collectibles</td>\n",
       "    </tr>\n",
       "    <tr>\n",
       "      <th>4</th>\n",
       "      <td>4qf49iU65pFYWTx3hCA7vikRRv5L3pg6im49yHXjLoQN</td>\n",
       "      <td>GrFAA1F6eA2wz4B3NQ2p2g4m2aLkzQCGDWi8dsLxruhJ</td>\n",
       "      <td>2BrDy9jiYfC3HU6NHvNJbUwuYduXi2bmhjkATbkPcotT</td>\n",
       "      <td>2023-09-25T17:13:11.000Z</td>\n",
       "      <td>2023-09-28T06:34:22.000Z</td>\n",
       "      <td>2.247104</td>\n",
       "      <td>4.281448</td>\n",
       "      <td>2.034343</td>\n",
       "      <td>0.905318</td>\n",
       "      <td>clear_collectibles</td>\n",
       "    </tr>\n",
       "    <tr>\n",
       "      <th>5</th>\n",
       "      <td>4qf49iU65pFYWTx3hCA7vikRRv5L3pg6im49yHXjLoQN</td>\n",
       "      <td>ahbDRH6pRRJZM6M2rfPD2SMfkJfQYueCfHd8UNurTcA</td>\n",
       "      <td>HpWCSuWtj8h62gdeLGbvWZW79Q13jigtsHX8DdNTV8kV</td>\n",
       "      <td>2023-09-25T17:13:28.000Z</td>\n",
       "      <td>2023-09-28T07:53:30.000Z</td>\n",
       "      <td>2.247104</td>\n",
       "      <td>4.281448</td>\n",
       "      <td>2.034343</td>\n",
       "      <td>0.905318</td>\n",
       "      <td>clear_collectibles</td>\n",
       "    </tr>\n",
       "    <tr>\n",
       "      <th>6</th>\n",
       "      <td>5GWUdSev42nKXXs49tKwcoZyozSwDoYDJTLSegV5NzFC</td>\n",
       "      <td>G7WZo5eJPwbJWsWDp5YVpt3BJwcBnx3m13tLj82daW37</td>\n",
       "      <td>BdFn9LKWDpt9dyFscC3YJXqntAvwd9YQz178q5vShHjU</td>\n",
       "      <td>2023-09-25T17:31:58.000Z</td>\n",
       "      <td>2023-09-28T14:38:13.000Z</td>\n",
       "      <td>1.625446</td>\n",
       "      <td>3.604586</td>\n",
       "      <td>1.979140</td>\n",
       "      <td>1.217598</td>\n",
       "      <td>clear_collectibles</td>\n",
       "    </tr>\n",
       "  </tbody>\n",
       "</table>\n",
       "</div>"
      ],
      "text/plain": [
       "                                        vendeur  \\\n",
       "1  F61wgdK7SgQEgZp7XJMtiUiqYuvcJ5P4PMCrzfpen3PX   \n",
       "2  HU5QwHHn4FhgtKYuCCMTsvKqkHspPRRYXvyjMtQ4kaBq   \n",
       "4  4qf49iU65pFYWTx3hCA7vikRRv5L3pg6im49yHXjLoQN   \n",
       "5  4qf49iU65pFYWTx3hCA7vikRRv5L3pg6im49yHXjLoQN   \n",
       "6  5GWUdSev42nKXXs49tKwcoZyozSwDoYDJTLSegV5NzFC   \n",
       "\n",
       "                                       acheteur  \\\n",
       "1  6zR8YqvScoxY6Xe14pimoHUuanoWon75fctDS1Bs1MCN   \n",
       "2  Hn5Vi2Ler5nJPN1XZfA6bq9iGkUQU9brfjtVRvVzUuCU   \n",
       "4  GrFAA1F6eA2wz4B3NQ2p2g4m2aLkzQCGDWi8dsLxruhJ   \n",
       "5   ahbDRH6pRRJZM6M2rfPD2SMfkJfQYueCfHd8UNurTcA   \n",
       "6  G7WZo5eJPwbJWsWDp5YVpt3BJwcBnx3m13tLj82daW37   \n",
       "\n",
       "                                            nft                date_achat  \\\n",
       "1  9mkzmm7JuGmtW8XTtGYzoQdwtPRPZk4vju7qXiESeU8x  2023-09-27T19:01:34.000Z   \n",
       "2  HoPeo9bSnMcUFcU4eHUtAD9wvF95Yc2Yp72CKpo1YbiF  2023-09-27T03:41:13.000Z   \n",
       "4  2BrDy9jiYfC3HU6NHvNJbUwuYduXi2bmhjkATbkPcotT  2023-09-25T17:13:11.000Z   \n",
       "5  HpWCSuWtj8h62gdeLGbvWZW79Q13jigtsHX8DdNTV8kV  2023-09-25T17:13:28.000Z   \n",
       "6  BdFn9LKWDpt9dyFscC3YJXqntAvwd9YQz178q5vShHjU  2023-09-25T17:31:58.000Z   \n",
       "\n",
       "                 date_vente  prix_achat  prix_vente    profit       roi  \\\n",
       "1  2023-09-28T15:34:15.000Z    2.193506    5.334327  3.140821  1.431872   \n",
       "2  2023-09-28T14:03:38.000Z    1.606448    4.278056  2.671609  1.663054   \n",
       "4  2023-09-28T06:34:22.000Z    2.247104    4.281448  2.034343  0.905318   \n",
       "5  2023-09-28T07:53:30.000Z    2.247104    4.281448  2.034343  0.905318   \n",
       "6  2023-09-28T14:38:13.000Z    1.625446    3.604586  1.979140  1.217598   \n",
       "\n",
       "           collection  \n",
       "1  clear_collectibles  \n",
       "2  clear_collectibles  \n",
       "4  clear_collectibles  \n",
       "5  clear_collectibles  \n",
       "6  clear_collectibles  "
      ]
     },
     "execution_count": 88,
     "metadata": {},
     "output_type": "execute_result"
    }
   ],
   "source": [
    "collection_sales_1h = sales_1h[sales_1h['collection'] == today_collection]\n",
    "collection_sales_1h.head()"
   ]
  },
  {
   "cell_type": "markdown",
   "metadata": {},
   "source": [
    "### 5.4 Historical available data : Magic Eden (from point 2)"
   ]
  },
  {
   "cell_type": "markdown",
   "metadata": {},
   "source": [
    "#### 5.4.1 Collection Stats"
   ]
  },
  {
   "cell_type": "code",
   "execution_count": 89,
   "metadata": {},
   "outputs": [
    {
     "name": "stderr",
     "output_type": "stream",
     "text": [
      "<ipython-input-89-c5a08def87b4>:2: SettingWithCopyWarning: \n",
      "A value is trying to be set on a copy of a slice from a DataFrame.\n",
      "Try using .loc[row_indexer,col_indexer] = value instead\n",
      "\n",
      "See the caveats in the documentation: https://pandas.pydata.org/pandas-docs/stable/user_guide/indexing.html#returning-a-view-versus-a-copy\n",
      "  collection_stats.loc[:, 'datetime'] = pd.to_datetime(collection_stats['datetime'])\n",
      "<ipython-input-89-c5a08def87b4>:2: DeprecationWarning: In a future version, `df.iloc[:, i] = newvals` will attempt to set the values inplace instead of always setting a new array. To retain the old behavior, use either `df[df.columns[i]] = newvals` or, if columns are non-unique, `df.isetitem(i, newvals)`\n",
      "  collection_stats.loc[:, 'datetime'] = pd.to_datetime(collection_stats['datetime'])\n"
     ]
    },
    {
     "data": {
      "image/png": "[encoded data removed]",
      "text/plain": [
       "<Figure size 864x432 with 2 Axes>"
      ]
     },
     "metadata": {
      "needs_background": "light"
     },
     "output_type": "display_data"
    },
    {
     "data": {
      "image/png": "[encoded data removed]",
      "text/plain": [
       "<Figure size 720x432 with 2 Axes>"
      ]
     },
     "metadata": {
      "needs_background": "light"
     },
     "output_type": "display_data"
    }
   ],
   "source": [
    "collection_stats = historical_stats[historical_stats['symbol'] == today_collection]\n",
    "collection_stats.loc[:, 'datetime'] = pd.to_datetime(collection_stats['datetime'])\n",
    "collection_stats = collection_stats.set_index('datetime')\n",
    "\n",
    "# Create a dual-axis plot\n",
    "fig, ax1 = plt.subplots(figsize=(12, 6))\n",
    "\n",
    "# First axis: floorPrice and avgPrice24hr\n",
    "ax1.set_xlabel('Date and Time')\n",
    "ax1.set_ylabel('Price', color='tab:blue')\n",
    "ax1.plot(collection_stats.index, collection_stats['floorPrice'], color='tab:blue', marker='o', label='Floor Price')\n",
    "ax1.plot(collection_stats.index, collection_stats['avgPrice24hr'], color='tab:orange', marker='o', label='Avg Price 24hr')\n",
    "ax1.tick_params(axis='y', labelcolor='tab:blue')\n",
    "ax1.legend(loc='upper left')\n",
    "\n",
    "# Create a second y-axis to represent volumeAll\n",
    "ax2 = ax1.twinx()\n",
    "ax2.set_ylabel('Volume', color='tab:green')\n",
    "ax2.plot(collection_stats.index, collection_stats['volumeAll'], color='tab:green', marker='o', linestyle='dashed', label='Volume All')\n",
    "ax2.tick_params(axis='y', labelcolor='tab:green')\n",
    "ax2.legend(loc='upper right')\n",
    "\n",
    "fig.tight_layout()\n",
    "plt.title('Clear Collectibles - Price and Volume Over Time')\n",
    "plt.xticks(rotation=45)  # Rotate date labels for better visibility\n",
    "plt.show()\n",
    "\n",
    "\n",
    "# Create a new figure and axis\n",
    "fig, ax1 = plt.subplots(figsize=(10, 6))\n",
    "\n",
    "# Plot listedCount on the primary y-axis\n",
    "collection_stats['listedCount'].plot(ax=ax1, label='Listed Count', color='b')\n",
    "ax1.set_ylabel('Listed Count', color='b')\n",
    "ax1.tick_params(axis='y', labelcolor='b')\n",
    "\n",
    "# Create a secondary y-axis for uniqueHolders\n",
    "ax2 = ax1.twinx()\n",
    "collection_stats['uniqueHolders'].plot(ax=ax2, label='Unique Holders', color='g')\n",
    "ax2.set_ylabel('Unique Holders', color='g')\n",
    "ax2.tick_params(axis='y', labelcolor='g')\n",
    "\n",
    "# Set the title and x-axis label\n",
    "plt.title('Clear collectibles: Listed Count and Unique Holders Over Time')\n",
    "plt.xlabel('Datetime')\n",
    "\n",
    "plt.show()"
   ]
  },
  {
   "cell_type": "markdown",
   "metadata": {},
   "source": [
    "#### 5.4.2 Top collection holders"
   ]
  },
  {
   "cell_type": "code",
   "execution_count": 90,
   "metadata": {},
   "outputs": [
    {
     "data": {
      "image/png": "[encoded data removed]",
      "text/plain": [
       "<Figure size 1080x360 with 1 Axes>"
      ]
     },
     "metadata": {
      "needs_background": "light"
     },
     "output_type": "display_data"
    },
    {
     "data": {
      "image/png": "[encoded data removed]",
      "text/plain": [
       "<Figure size 1080x360 with 1 Axes>"
      ]
     },
     "metadata": {
      "needs_background": "light"
     },
     "output_type": "display_data"
    },
    {
     "data": {
      "image/png": "[encoded data removed]",
      "text/plain": [
       "<Figure size 1080x360 with 1 Axes>"
      ]
     },
     "metadata": {
      "needs_background": "light"
     },
     "output_type": "display_data"
    }
   ],
   "source": [
    "# Filter out 'downgrapes' collection\n",
    "collection_holders = holders_df[holders_df['collection_name'] == today_collection]\n",
    "\n",
    "# Identify the top 10 holders based on the latest entry\n",
    "latest_date = collection_holders['date'].max()\n",
    "top_holders = collection_holders[collection_holders['date'] == latest_date].nlargest(10, 'tokens')['owner'].tolist()\n",
    "\n",
    "# Filter the DataFrame for these top holders\n",
    "top_holders_df = collection_holders[collection_holders['owner'].isin(top_holders)]\n",
    "\n",
    "# Plot the graphs\n",
    "plt.figure(figsize=(15, 5))\n",
    "for holder in top_holders:\n",
    "    holder_data = top_holders_df[top_holders_df['owner'] == holder].sort_values(by='date')\n",
    "    plt.plot(holder_data['date'], holder_data['tokens'], label=holder[:4])\n",
    "plt.title('Top 10 Holders - Total Holdings Over Time')\n",
    "plt.xlabel('Date')\n",
    "plt.ylabel('Tokens')\n",
    "plt.legend(loc='upper center', bbox_to_anchor=(0.5, -0.15), ncol=5)  # Adjust these values as needed\n",
    "plt.tight_layout()\n",
    "plt.show()\n",
    "\n",
    "plt.figure(figsize=(15, 5))\n",
    "for holder in top_holders:\n",
    "    holder_data = top_holders_df[top_holders_df['owner'] == holder].sort_values(by='date')\n",
    "    plt.plot(holder_data['date'], holder_data['buy7d'], label=holder[:4])\n",
    "plt.title('Top 10 Holders - 7D Buys Over Time')\n",
    "plt.xlabel('Date')\n",
    "plt.ylabel('7D Buys')\n",
    "plt.legend(loc='upper center', bbox_to_anchor=(0.5, -0.15), ncol=5)  # Adjust these values as needed\n",
    "plt.tight_layout()\n",
    "plt.show()\n",
    "\n",
    "plt.figure(figsize=(15, 5))\n",
    "for holder in top_holders:\n",
    "    holder_data = top_holders_df[top_holders_df['owner'] == holder].sort_values(by='date')\n",
    "    plt.plot(holder_data['date'], holder_data['sell7d'], label=holder[:4])\n",
    "plt.title('Top 10 Holders - 7D Sales Over Time')\n",
    "plt.xlabel('Date')\n",
    "plt.ylabel('7D Sales')\n",
    "plt.legend(loc='upper center', bbox_to_anchor=(0.5, -0.15), ncol=5)  # Adjust these values as needed\n",
    "plt.tight_layout()\n",
    "plt.show()"
   ]
  },
  {
   "cell_type": "markdown",
   "metadata": {},
   "source": [
    "### 5.5 Twitter data (from point 2)"
   ]
  },
  {
   "cell_type": "markdown",
   "metadata": {},
   "source": [
    "#### 5.5.1 Collecting the data (all tweets + official tweets)"
   ]
  },
  {
   "cell_type": "markdown",
   "metadata": {},
   "source": [
    "In this section, we collect all tweets from the last 24 hours for the collections of interests. Next we also collect the Tweet's (official announcements) made on the project's founder to learn about any bullish updates."
   ]
  },
  {
   "cell_type": "code",
   "execution_count": 117,
   "metadata": {},
   "outputs": [],
   "source": [
    "# Twitter handles \n",
    "\n",
    "twitter_names = [\"clearcollectnft\",\"cranimus_MT\n",
    "                   \n",
    "twitter_handles = [\"@clearcollectnft\",\"@cranimus_MT\"]\n",
    "\n",
    "\n",
    "# Search Urls \n",
    "\n",
    "search_urls = [f\"https://twitter.com/search?f=top&q={handle}%20lang%3Aen%20since%3A2023-09-28%20-filter%3Areplies&src=typed_query\" for handle in twitter_names]\n",
    "\n",
    "\n",
    "\n",
    "def fetch_from_api(actor_url, params):\n",
    "    data = json.dumps(params).encode('utf-8')\n",
    "    request = urllib.request.Request(actor_url, data=data, headers=headers)\n",
    "\n",
    "    # Execute the request and get the response\n",
    "    with urllib.request.urlopen(request) as response:\n",
    "        response_body = json.loads(response.read().decode('utf-8'))\n",
    "        run_id = response_body['data']['id']\n",
    "        dataset_id = response_body['data']['defaultDatasetId']\n",
    "\n",
    "    # Poll the actor's status\n",
    "    while True:\n",
    "        status_url = f\"{BASE_URL}/actor-runs/{run_id}?token={API_TOKEN}\"\n",
    "        with urllib.request.urlopen(status_url) as response:\n",
    "            run_data = json.load(response)\n",
    "            if run_data['data']['status'] in ['SUCCEEDED', 'FAILED', 'TIMED-OUT', 'ABORTED']:\n",
    "                break\n",
    "        time.sleep(10)\n",
    "\n",
    "    # Fetch the dataset data once the actor has finished\n",
    "    dataset_url = f\"{BASE_URL}/datasets/{dataset_id}/items?token={API_TOKEN}\"\n",
    "    with urllib.request.urlopen(dataset_url) as response:\n",
    "        return json.load(response)\n",
    "    \n",
    "    \n",
    "# Extractor\n",
    "def tweet_flash_extractor(tweet):\n",
    "    return {\n",
    "        'tweet_id': tweet.get('tweet_id', None),\n",
    "        'url': tweet.get('url', None),\n",
    "        'text': tweet.get('text', None),\n",
    "        'username': tweet.get('username', None),\n",
    "        'likes': tweet.get('likes', 0),\n",
    "        'mentions': tweet.get('tweet_mentions', [])\n",
    "    }\n",
    "\n",
    "\n",
    "\n",
    "# Parameters to get all tweets mentioning collections\n",
    "                 \n",
    "tweet_flash_params = {\n",
    "    \"filter:blue_verified\": False,\n",
    "    \"filter:has_engagement\": False,\n",
    "    \"filter:images\": False,\n",
    "    \"filter:media\": False,\n",
    "    \"filter:nativeretweets\": False,\n",
    "    \"filter:quote\": False,\n",
    "    \"filter:replies\": False,\n",
    "    \"filter:retweets\": False,\n",
    "    \"filter:safe\": False,\n",
    "    \"filter:twimg\": False,\n",
    "    \"filter:verified\": False,\n",
    "    \"filter:videos\": False,\n",
    "    \"language\": \"en\",\n",
    "    \"max_tweets\": 500,\n",
    "    \"newer_than\": \"2023-09-28\",\n",
    "    \"only_tweets\": True,\n",
    "    \"search_urls\": search_urls,\n",
    "    \"use_experimental_scraper\": False,\n",
    "    \"user_info\": \"user info and replying info\"\n",
    "}\n",
    "\n",
    "# Parameters to collect official tweets of collections\n",
    "                 \n",
    "official_tweets_params = {\n",
    "    \"filter:blue_verified\": False,\n",
    "    \"filter:has_engagement\": False,\n",
    "    \"filter:images\": False,\n",
    "    \"filter:media\": False,\n",
    "    \"filter:nativeretweets\": False,\n",
    "    \"filter:quote\": False,\n",
    "    \"filter:replies\": False,\n",
    "    \"filter:retweets\": False,\n",
    "    \"filter:safe\": False,\n",
    "    \"filter:twimg\": False,\n",
    "    \"filter:verified\": False,\n",
    "    \"filter:videos\": False,\n",
    "    \"from_user\": twitter_handles,\n",
    "    \"language\": \"en\",\n",
    "    \"max_tweets\": 10,\n",
    "    \"newer_than\": \"2023-09-28\",\n",
    "    \"only_tweets\": True,\n",
    "    \"use_experimental_scraper\": False,\n",
    "    \"user_info\": \"user info and replying info\"\n",
    "}                 \n",
    "                 \n",
    "                 \n",
    "                 \n",
    "                 \n",
    "# Fetching the data\n",
    "tweets_df = convert_to_dataframe(fetch_from_api(f\"{BASE_URL}/acts/shanes~tweet-flash/runs?token={API_TOKEN}\", tweet_flash_params), tweet_flash_extractor)\n",
    "official_tweets_df = convert_to_dataframe(fetch_from_api(f\"{BASE_URL}/acts/shanes~tweet-flash/runs?token={API_TOKEN}\", official_tweets_params), tweet_flash_extractor)\n"
   ]
  },
  {
   "cell_type": "markdown",
   "metadata": {},
   "source": [
    "#### 5.5.2 Official announcements"
   ]
  },
  {
   "cell_type": "code",
   "execution_count": 130,
   "metadata": {},
   "outputs": [
    {
     "name": "stdout",
     "output_type": "stream",
     "text": [
      "3 days in and Clear Collectibles is shaking the @solana NFT market 🔥\n",
      "\n",
      "Come check out what all the excitement is about!\n",
      "--------------------------------------------------------------------------------\n"
     ]
    }
   ],
   "source": [
    "for index, row in official_tweets_df.iterrows():\n",
    "    print(row['text'])\n",
    "    print('-'*80)  \n"
   ]
  },
  {
   "cell_type": "markdown",
   "metadata": {},
   "source": [
    "#### 5.5.3 Sentiment analysis"
   ]
  },
  {
   "cell_type": "code",
   "execution_count": 122,
   "metadata": {},
   "outputs": [],
   "source": [
    "# load model and tokenizer\n",
    "roberta = \"cardiffnlp/twitter-roberta-base-sentiment\"\n",
    "model = AutoModelForSequenceClassification.from_pretrained(roberta)\n",
    "tokenizer = AutoTokenizer.from_pretrained(roberta)\n",
    "labels = ['Negative', 'Neutral', 'Positive']"
   ]
  },
  {
   "cell_type": "code",
   "execution_count": 124,
   "metadata": {},
   "outputs": [],
   "source": [
    "score_pos_list = []\n",
    "score_neut_list = []\n",
    "score_neg_list = []\n",
    "tweets_sentiment = []\n",
    "\n",
    "\n",
    "for tweet in tweets_df['text']:\n",
    "    \n",
    "    tweet_words = []\n",
    "\n",
    "    for word in tweet.split(' '):\n",
    "        if word.startswith('@') and len(word) > 1:\n",
    "            word = '@user'\n",
    "\n",
    "        elif word.startswith('http'):\n",
    "            word = \"http\"\n",
    "        tweet_words.append(word)\n",
    "\n",
    "    tweet_proc = \" \".join(tweet_words)\n",
    "\n",
    "    # sentiment analysis\n",
    "    encoded_tweet = tokenizer(tweet_proc, return_tensors='pt')\n",
    "    # output = model(encoded_tweet['input_ids'], encoded_tweet['attention_mask'])\n",
    "    output = model(**encoded_tweet)\n",
    "\n",
    "    scores = output[0][0].detach().numpy()\n",
    "    scores = softmax(scores)\n",
    "    \n",
    "    score_neg_list.append(scores[0])\n",
    "    score_neut_list.append(scores[1])\n",
    "    score_pos_list.append(scores[2])\n",
    "    tweets_sentiment.append(labels[scores.argmax()])\n",
    "    \n",
    "tweets_df['score_pos'] = score_pos_list\n",
    "tweets_df['score_neut'] = score_neut_list\n",
    "tweets_df['score_neg'] = score_neg_list\n",
    "tweets_df['sentiment_roberta'] = tweets_sentiment"
   ]
  },
  {
   "cell_type": "code",
   "execution_count": 158,
   "metadata": {},
   "outputs": [
    {
     "name": "stdout",
     "output_type": "stream",
     "text": [
      "==================================================\n",
      "Analysis for ClearCollectNFT:\n",
      "\n"
     ]
    },
    {
     "data": {
      "image/png": "[encoded data removed]",
      "text/plain": [
       "<Figure size 432x288 with 1 Axes>"
      ]
     },
     "metadata": {},
     "output_type": "display_data"
    },
    {
     "name": "stdout",
     "output_type": "stream",
     "text": [
      "\n",
      "Top 5 Positive tweets for ClearCollectNFT:\n",
      "\n",
      "- 1/x\n",
      "\n",
      "It's time to jump into the clearverse\n",
      "\n",
      "@ClearCollectNFT is a project I've been a part of for the last 3-4 months, working with @T_H_Crypto and the rest of his team to pivot from @NomadsNFT_ into something completely new. (Likes: 2312)\n",
      "\n",
      "\n",
      "- ☀️ Hello #solana & @MagicEden community,\n",
      "\n",
      "It's time to amazing #GIVEAWAY!\n",
      "\n",
      "🎁 #NFT @ClearCollectNFT #975\n",
      "\n",
      "✅ Follow @_Curvata & @ClearCollectNFT \n",
      "✅ ❤️ & RT this post\n",
      "✅ Tag 3 friends\n",
      "\n",
      "72h⏳ (Likes: 496)\n",
      "\n",
      "\n",
      "- Congrats to @ClearCollectNFT for the quick mint out, easily the best art in pfps I have seen. I am super happy to buy 2 of the best 1/1s in the lot.\n",
      "\n",
      "Presenting The King & The Queen (for me & the missus)\n",
      "\n",
      "Thanks to @T_H_Crypto for graciously selling the king back to me at cost 😍 (Likes: 306)\n",
      "\n",
      "\n",
      "- Decided to get 50 today. Very nice community, maybe gotta invite my friends. \n",
      "\n",
      "@ClearCollectNFT (Likes: 281)\n",
      "\n",
      "\n",
      "- My @ClearCollectNFT moon bag looks cute.\n",
      "\n",
      "These are meant to moon or to 0. \n",
      "\n",
      "They won't be leaving my wallet for a long time.\n",
      "\n",
      "Feels good to be a part of a community with good vibes after a long time 🍻 (Likes: 162)\n",
      "\n",
      "\n",
      "Top 5 Negative tweets for ClearCollectNFT:\n",
      "\n",
      "- Imagine fading @ClearCollectNFT’s art sub 2 sol couldnt be me.\n",
      "\n",
      "Clearverse live in 2 days and i still feel a bit underexposed.\n",
      "\n",
      "Do clears follow clears ? \n",
      "\n",
      "Can i get to 1k followers (Likes: 29)\n",
      "\n",
      "\n",
      "- With so many Dope traits. \n",
      "I gotta collect them all! @ClearCollectNFT (Likes: 22)\n",
      "\n",
      "\n",
      "- I struggle buying into \"cute\" NFT projects. I'm a whole ass adult and seeing other whole ass adults saying how \"cute these things are\" is cringe as fuck.\n",
      "\n",
      "@ClearCollectNFT is the closest i can do. Even then, I searched for ones that have zero cute factor. (Likes: 1)\n",
      "\n",
      "\n",
      "\n",
      "\n",
      "==================================================\n",
      "Analysis for cranimus_MT:\n",
      "\n"
     ]
    },
    {
     "data": {
      "image/png": "[encoded data removed]",
      "text/plain": [
       "<Figure size 432x288 with 1 Axes>"
      ]
     },
     "metadata": {},
     "output_type": "display_data"
    },
    {
     "name": "stdout",
     "output_type": "stream",
     "text": [
      "\n",
      "Top 5 Positive tweets for cranimus_MT:\n",
      "\n",
      "- Update on my last two mints this week. \n",
      "@ClearCollectNFT (2 MP Public)\n",
      "@cranimus_MT (0.04)\n",
      "\n",
      "Benefits of being a @BroHallaNFT holder? You get the best alpha 😎\n",
      "#Brolpha (Likes: 33)\n",
      "\n",
      "\n",
      "Top 5 Negative tweets for cranimus_MT:\n",
      "\n",
      "\n",
      "\n",
      "==================================================\n"
     ]
    }
   ],
   "source": [
    "twitter_names = ['ClearCollectNFT', 'cranimus_MT']\n",
    "\n",
    "for name in twitter_names:\n",
    "    print(\"=\"*50)  # Separator\n",
    "    print(f\"Analysis for {name}:\\n\")\n",
    "    \n",
    "    # Filter tweets based on mentions column\n",
    "    filtered_tweets = tweets_df[tweets_df['mentions'].apply(lambda x: name in x)]\n",
    "    \n",
    "    # Pie chart of sentiments\n",
    "    sentiment_counts = filtered_tweets['sentiment_roberta'].value_counts()\n",
    "    sentiment_counts.plot.pie(autopct='%1.1f%%', startangle=90)\n",
    "    plt.title(f'Sentiment Distribution for {name}')\n",
    "    plt.ylabel('')  # Removing the 'sentiment_roberta' ylabel\n",
    "    plt.show()\n",
    "\n",
    "    # Top 5 positive tweets with most likes\n",
    "    top_positive = filtered_tweets[filtered_tweets['sentiment_roberta'] == 'Positive'].nlargest(5, 'likes')\n",
    "    print(f\"\\nTop 5 Positive tweets for {name}:\")\n",
    "    for index, row in top_positive.iterrows():\n",
    "        print()\n",
    "        print(f\"- {row['text']} (Likes: {row['likes']})\")\n",
    "        print()\n",
    "    \n",
    "    # Top 5 negative tweets with most likes\n",
    "    top_negative = filtered_tweets[filtered_tweets['sentiment_roberta'] == 'Negative'].nlargest(5, 'likes')\n",
    "    print(f\"\\nTop 5 Negative tweets for {name}:\")\n",
    "    for index, row in top_negative.iterrows():\n",
    "        print()\n",
    "        print(f\"- {row['text']} (Likes: {row['likes']})\")\n",
    "        print()\n",
    "    \n",
    "    print(\"\\n\\n\")\n",
    "\n",
    "print(\"=\"*50)  # Final separator\n",
    "\n"
   ]
  }
 ],
 "metadata": {
  "kernelspec": {
   "display_name": "Python 3",
   "language": "python",
   "name": "python3"
  },
  "language_info": {
   "codemirror_mode": {
    "name": "ipython",
    "version": 3
   },
   "file_extension": ".py",
   "mimetype": "text/x-python",
   "name": "python",
   "nbconvert_exporter": "python",
   "pygments_lexer": "ipython3",
   "version": "3.8.6"
  }
 },
 "nbformat": 4,
 "nbformat_minor": 4
}
